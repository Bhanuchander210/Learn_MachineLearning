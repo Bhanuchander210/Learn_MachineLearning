{
 "cells": [
  {
   "cell_type": "markdown",
   "metadata": {},
   "source": [
    "## PCA with IRIS Data\n",
    "---\n",
    "\n",
    "Training with High value Principle component."
   ]
  },
  {
   "cell_type": "code",
   "execution_count": 2,
   "metadata": {},
   "outputs": [],
   "source": [
    "%matplotlib inline\n",
    "import pandas as pd\n",
    "from matplotlib import pyplot as plt\n",
    "import numpy as np"
   ]
  },
  {
   "cell_type": "code",
   "execution_count": 3,
   "metadata": {},
   "outputs": [],
   "source": [
    "df = pd.read_csv(\n",
    "    filepath_or_buffer='https://archive.ics.uci.edu/ml/machine-learning-databases/iris/iris.data',\n",
    "    header=None,\n",
    "    sep=',')\n",
    "\n",
    "df.columns=['sepal_len', 'sepal_wid', 'petal_len', 'petal_wid', 'class']\n",
    "df.dropna(how=\"all\", inplace=True)\n",
    "di = {'Iris-setosa': 1, 'Iris-versicolor': 2, 'Iris-virginica': 3 }\n",
    "\n",
    "df['class'].replace(di, inplace=True)"
   ]
  },
  {
   "cell_type": "code",
   "execution_count": 4,
   "metadata": {},
   "outputs": [],
   "source": [
    "feat_cols = list(df)[:4]"
   ]
  },
  {
   "cell_type": "code",
   "execution_count": 5,
   "metadata": {},
   "outputs": [
    {
     "name": "stdout",
     "output_type": "stream",
     "text": [
      "Feature columns : sepal_len,sepal_wid,petal_len,petal_wid\n"
     ]
    }
   ],
   "source": [
    "import warnings\n",
    "warnings.filterwarnings('ignore')\n",
    "\n",
    "print 'Feature columns : {}'.format(','.join(feat_cols))\n",
    "X = df.ix[:, 0:4].values\n",
    "y = df.ix[:, 4].values"
   ]
  },
  {
   "cell_type": "code",
   "execution_count": 6,
   "metadata": {},
   "outputs": [
    {
     "name": "stdout",
     "output_type": "stream",
     "text": [
      "PCA Explained Variance Ratio :  [0.92461621 0.05301557 0.01718514 0.00518309]\n"
     ]
    },
    {
     "data": {
      "image/png": "[encoded data removed]",
      "text/plain": [
       "<Figure size 432x288 with 1 Axes>"
      ]
     },
     "metadata": {
      "needs_background": "light"
     },
     "output_type": "display_data"
    }
   ],
   "source": [
    "from sklearn.decomposition import PCA\n",
    "pca = PCA(n_components=4)\n",
    "pca_result = pca.fit_transform(df[feat_cols].values)\n",
    "\n",
    "pca_df = pd.DataFrame(pca_result, columns=['pc1', 'pc2', 'pc3', 'pc4'])\n",
    "\n",
    "print 'PCA Explained Variance Ratio : ', pca.explained_variance_ratio_\n",
    "plt.bar(range(4), pca.explained_variance_ratio_)\n",
    "plt.show()"
   ]
  },
  {
   "cell_type": "code",
   "execution_count": 7,
   "metadata": {},
   "outputs": [
    {
     "name": "stdout",
     "output_type": "stream",
     "text": [
      "Model : LR, Score : 0.861519607843\n",
      "Model : LDA, Score : 0.940359477124\n",
      "Model : KNN, Score : 0.933823529412\n",
      "Model : CART, Score : 0.90114379085\n",
      "Model : NB, Score : 0.947303921569\n",
      "Model : SVM, Score : 0.927696078431\n"
     ]
    }
   ],
   "source": [
    "from sklearn.linear_model import LogisticRegression\n",
    "from sklearn.tree import DecisionTreeClassifier\n",
    "from sklearn.neighbors import KNeighborsClassifier\n",
    "from sklearn.discriminant_analysis import LinearDiscriminantAnalysis\n",
    "from sklearn.naive_bayes import GaussianNB\n",
    "from sklearn.svm import SVC\n",
    "from sklearn.model_selection import cross_val_score\n",
    "\n",
    "models = []\n",
    "models.append(('LR', LogisticRegression()))\n",
    "models.append(('LDA', LinearDiscriminantAnalysis()))\n",
    "models.append(('KNN', KNeighborsClassifier()))\n",
    "models.append(('CART', DecisionTreeClassifier()))\n",
    "models.append(('NB', GaussianNB()))\n",
    "models.append(('SVM', SVC()))\n",
    "\n",
    "for name, model in models:\n",
    "    cross_score = cross_val_score(model, np.array(pca_df['pc1']).reshape(-1, 1), df['class'], cv=3, verbose=0)\n",
    "    print 'Model : {}, Score : {}'.format(name, np.mean(cross_score))"
   ]
  },
  {
   "cell_type": "markdown",
   "metadata": {},
   "source": [
    "## Training Data with Real values\n",
    "---"
   ]
  },
  {
   "cell_type": "code",
   "execution_count": 8,
   "metadata": {},
   "outputs": [
    {
     "name": "stdout",
     "output_type": "stream",
     "text": [
      "Model : LR, Score : 0.674019607843\n",
      "Model : LDA, Score : 0.733251633987\n",
      "Model : KNN, Score : 0.692401960784\n",
      "Model : CART, Score : 0.665441176471\n",
      "Model : NB, Score : 0.71977124183\n",
      "Model : SVM, Score : 0.71364379085\n"
     ]
    }
   ],
   "source": [
    "for name, model in models:\n",
    "    cross_score = cross_val_score(model, np.array(df['sepal_len']).reshape(-1, 1), df['class'], cv=3, verbose=0)\n",
    "    print 'Model : {}, Score : {}'.format(name, np.mean(cross_score))"
   ]
  },
  {
   "cell_type": "markdown",
   "metadata": {},
   "source": [
    "## Closing Thoughts\n",
    "---\n",
    "\n",
    "- Training with **Principle Component 1** provides better accuracy score as observed."
   ]
  }
 ],
 "metadata": {
  "kernelspec": {
   "display_name": "Python 2",
   "language": "python",
   "name": "python2"
  },
  "language_info": {
   "codemirror_mode": {
    "name": "ipython",
    "version": 2
   },
   "file_extension": ".py",
   "mimetype": "text/x-python",
   "name": "python",
   "nbconvert_exporter": "python",
   "pygments_lexer": "ipython2",
   "version": "2.7.15"
  }
 },
 "nbformat": 4,
 "nbformat_minor": 2
}
