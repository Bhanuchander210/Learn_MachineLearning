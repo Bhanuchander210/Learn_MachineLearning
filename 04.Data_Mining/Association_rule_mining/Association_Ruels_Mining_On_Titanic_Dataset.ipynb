{
 "cells": [
  {
   "cell_type": "markdown",
   "metadata": {},
   "source": [
    "# Association Rules Mining With Apriori Algorithm\n",
    "\n",
    "## On Titanic Dataset"
   ]
  },
  {
   "cell_type": "code",
   "execution_count": 21,
   "metadata": {},
   "outputs": [],
   "source": [
    "%matplotlib inline"
   ]
  },
  {
   "cell_type": "markdown",
   "metadata": {},
   "source": [
    "## Imports"
   ]
  },
  {
   "cell_type": "code",
   "execution_count": 22,
   "metadata": {},
   "outputs": [],
   "source": [
    "import matplotlib.pyplot as plt\n",
    "import pandas as pd\n",
    "from mlxtend.preprocessing import TransactionEncoder\n",
    "from mlxtend.frequent_patterns import apriori, association_rules\n",
    "\n",
    "import warnings\n",
    "warnings.filterwarnings(\"ignore\")\n",
    "import seaborn as sns"
   ]
  },
  {
   "cell_type": "markdown",
   "metadata": {},
   "source": [
    "## Loading Dataset"
   ]
  },
  {
   "cell_type": "code",
   "execution_count": 23,
   "metadata": {},
   "outputs": [],
   "source": [
    "titanic = pd.read_csv('/home/bhanuchander/course/Learn_MachineLearning/data/csv/titanic/train.csv')\n",
    "\n",
    "nominal_cols = ['Embarked','Pclass','Age', 'Survived', 'Sex']\n",
    "\n",
    "in_titanic= titanic[nominal_cols]\n",
    "\n",
    "in_titanic['Embarked'].fillna('Unknown',inplace=True)\n",
    "\n",
    "in_titanic['Age'].fillna(0, inplace=True)"
   ]
  },
  {
   "cell_type": "markdown",
   "metadata": {},
   "source": [
    "## Binning"
   ]
  },
  {
   "cell_type": "code",
   "execution_count": 24,
   "metadata": {},
   "outputs": [],
   "source": [
    "## Binning Method to categorize the Continous Variables\n",
    "\n",
    "def binning(col, cut_points, labels=None):\n",
    "\n",
    "  minval = col.min()\n",
    "  maxval = col.max()\n",
    "\n",
    "  break_points = [minval] + cut_points + [maxval]\n",
    "\n",
    "\n",
    "  if not labels:\n",
    "    labels = range(len(cut_points)+1)\n",
    "\n",
    "\n",
    "  colBin = pd.cut(col,bins=break_points,labels=labels,include_lowest=True)\n",
    "  return colBin"
   ]
  },
  {
   "cell_type": "code",
   "execution_count": 25,
   "metadata": {},
   "outputs": [
    {
     "name": "stdout",
     "output_type": "stream",
     "text": [
      "  Embarked  Pclass    Age Survived     Sex\n",
      "0        S       3  Adult    False    male\n",
      "1        C       1  Adult     True  female\n",
      "2        S       3  Adult     True  female\n",
      "3        S       1  Adult     True  female\n",
      "4        S       3  Adult    False    male\n"
     ]
    }
   ],
   "source": [
    "cut_points = [1, 10, 20, 50 ]\n",
    "\n",
    "labels = [\"Unknown\", \"Child\", \"Teen\", \"Adult\", \"Old\"]\n",
    "\n",
    "in_titanic['Age'] = binning(in_titanic['Age'], cut_points, labels)\n",
    "\n",
    "# Replacing Binary with String\n",
    "rep = {0: \"False\", 1: \"True\"}\n",
    "\n",
    "in_titanic.replace({'Survived' : rep}, inplace=True)\n",
    "\n",
    "print in_titanic.head()"
   ]
  },
  {
   "cell_type": "code",
   "execution_count": 26,
   "metadata": {},
   "outputs": [
    {
     "name": "stdout",
     "output_type": "stream",
     "text": [
      "       1      2      3  Adult      C  Child  False    Old      Q      S  \\\n",
      "0  False  False   True   True  False  False   True  False  False   True   \n",
      "1   True  False  False   True   True  False  False  False  False  False   \n",
      "2  False  False   True   True  False  False  False  False  False   True   \n",
      "3   True  False  False   True  False  False  False  False  False   True   \n",
      "4  False  False   True   True  False  False   True  False  False   True   \n",
      "\n",
      "    Teen   True  Unknown  female   male  \n",
      "0  False  False    False   False   True  \n",
      "1  False   True    False    True  False  \n",
      "2  False   True    False    True  False  \n",
      "3  False   True    False    True  False  \n",
      "4  False  False    False   False   True  \n"
     ]
    }
   ],
   "source": [
    "dataset = []\n",
    "for i in range(0, in_titanic.shape[0]-1):\n",
    "    dataset.append([str(in_titanic.values[i,j]) for j in range(0, in_titanic.shape[1])])\n",
    "# dataset = in_titanic.to_xarray()\n",
    "\n",
    "oht = TransactionEncoder()\n",
    "oht_ary = oht.fit(dataset).transform(dataset)\n",
    "df = pd.DataFrame(oht_ary, columns=oht.columns_)\n",
    "print df.head()"
   ]
  },
  {
   "cell_type": "markdown",
   "metadata": {},
   "source": [
    "## All Nominal Values"
   ]
  },
  {
   "cell_type": "code",
   "execution_count": 27,
   "metadata": {},
   "outputs": [
    {
     "name": "stdout",
     "output_type": "stream",
     "text": [
      "['1', '2', '3', 'Adult', 'C', 'Child', 'False', 'Old', 'Q', 'S', 'Teen', 'True', 'Unknown', 'female', 'male']\n"
     ]
    }
   ],
   "source": [
    "print oht.columns_"
   ]
  },
  {
   "cell_type": "code",
   "execution_count": 28,
   "metadata": {},
   "outputs": [
    {
     "name": "stdout",
     "output_type": "stream",
     "text": [
      "    support itemsets\n",
      "0  0.242697      (1)\n",
      "1  0.206742      (2)\n",
      "2  0.550562      (3)\n",
      "3  0.528090  (Adult)\n",
      "4  0.615730  (False)\n"
     ]
    }
   ],
   "source": [
    "output = apriori(df, min_support=0.2, use_colnames=oht.columns_)\n",
    "\n",
    "print output.head()"
   ]
  },
  {
   "cell_type": "code",
   "execution_count": 29,
   "metadata": {},
   "outputs": [
    {
     "data": {
      "image/png": "[encoded data removed]",
      "text/plain": [
       "<Figure size 432x288 with 1 Axes>"
      ]
     },
     "metadata": {},
     "output_type": "display_data"
    },
    {
     "data": {
      "image/png": "[encoded data removed]",
      "text/plain": [
       "<Figure size 432x288 with 1 Axes>"
      ]
     },
     "metadata": {},
     "output_type": "display_data"
    },
    {
     "data": {
      "image/png": "[encoded data removed]",
      "text/plain": [
       "<Figure size 432x288 with 1 Axes>"
      ]
     },
     "metadata": {},
     "output_type": "display_data"
    },
    {
     "data": {
      "image/png": "[encoded data removed]",
      "text/plain": [
       "<Figure size 432x288 with 1 Axes>"
      ]
     },
     "metadata": {},
     "output_type": "display_data"
    }
   ],
   "source": [
    "for x in ['Embarked', 'Pclass','Age', 'Sex']:\n",
    "    sns.set(style=\"whitegrid\")\n",
    "    ax = sns.countplot(y=x, hue=\"Survived\", data=in_titanic)\n",
    "    plt.ylabel(x)\n",
    "    plt.title('Survival Plot')\n",
    "    plt.show()"
   ]
  },
  {
   "cell_type": "code",
   "execution_count": 30,
   "metadata": {},
   "outputs": [
    {
     "name": "stdout",
     "output_type": "stream",
     "text": [
      "['antecedents' 'consequents' 'antecedent support' 'consequent support'\n",
      " 'support' 'confidence' 'lift' 'leverage' 'conviction']\n",
      "   antecedents           consequents  antecedent support  consequent support  \\\n",
      "0          (S)         (male, False)            0.723596            0.524719   \n",
      "1          (S)                (True)            0.723596            0.384270   \n",
      "2          (S)         (male, Adult)            0.723596            0.340449   \n",
      "3          (S)                (male)            0.723596            0.647191   \n",
      "4          (S)               (False)            0.723596            0.615730   \n",
      "5          (S)               (Adult)            0.723596            0.528090   \n",
      "6          (S)  (male, False, Adult)            0.723596            0.275281   \n",
      "7          (S)                   (3)            0.723596            0.550562   \n",
      "8          (S)      (3, male, False)            0.723596            0.335955   \n",
      "9          (S)              (female)            0.723596            0.352809   \n",
      "10         (S)        (False, Adult)            0.723596            0.319101   \n",
      "11         (S)             (3, male)            0.723596            0.388764   \n",
      "12         (S)            (3, False)            0.723596            0.416854   \n",
      "13         (S)            (3, Adult)            0.723596            0.248315   \n",
      "\n",
      "     support  confidence      lift  leverage  conviction  \n",
      "0   0.408989    0.565217  1.077181  0.029304    1.093146  \n",
      "1   0.243820    0.336957  0.876875 -0.034236    0.928642  \n",
      "2   0.277528    0.383540  1.126571  0.031180    1.069901  \n",
      "3   0.495506    0.684783  1.058084  0.027201    1.119256  \n",
      "4   0.479775    0.663043  1.076841  0.034236    1.140413  \n",
      "5   0.417978    0.577640  1.093828  0.035854    1.117317  \n",
      "6   0.231461    0.319876  1.161998  0.032269    1.065569  \n",
      "7   0.396629    0.548137  0.995595 -0.001755    0.994633  \n",
      "8   0.259551    0.358696  1.067689  0.016455    1.035460  \n",
      "9   0.228090    0.315217  0.893451 -0.027201    0.945104  \n",
      "10  0.268539    0.371118  1.163011  0.037639    1.082713  \n",
      "11  0.297753    0.411491  1.058459  0.016445    1.038617  \n",
      "12  0.321348    0.444099  1.065360  0.019715    1.049011  \n",
      "13  0.213483    0.295031  1.188134  0.033804    1.066267  \n"
     ]
    },
    {
     "data": {
      "image/png": "[encoded data removed]",
      "text/plain": [
       "<Figure size 432x288 with 1 Axes>"
      ]
     },
     "metadata": {},
     "output_type": "display_data"
    },
    {
     "name": "stdout",
     "output_type": "stream",
     "text": [
      "['antecedents' 'consequents' 'antecedent support' 'consequent support'\n",
      " 'support' 'confidence' 'lift' 'leverage' 'conviction']\n",
      "  antecedents consequents  antecedent support  consequent support   support  \\\n",
      "0      (male)     (False)            0.647191            0.615730  0.524719   \n",
      "1     (False)      (male)            0.615730            0.647191  0.524719   \n",
      "\n",
      "   confidence      lift  leverage  conviction  \n",
      "0    0.810764  1.316752  0.126224    2.030636  \n",
      "1    0.852190  1.316752  0.126224    2.386905  \n"
     ]
    },
    {
     "data": {
      "image/png": "[encoded data removed]",
      "text/plain": [
       "<Figure size 432x288 with 1 Axes>"
      ]
     },
     "metadata": {},
     "output_type": "display_data"
    },
    {
     "name": "stdout",
     "output_type": "stream",
     "text": [
      "['antecedents' 'consequents' 'antecedent support' 'consequent support'\n",
      " 'support' 'confidence' 'lift' 'leverage' 'conviction']\n",
      "      antecedents    consequents  antecedent support  consequent support  \\\n",
      "0       (S, male)        (False)            0.495506            0.615730   \n",
      "1      (S, False)         (male)            0.479775            0.647191   \n",
      "2   (male, False)            (S)            0.524719            0.723596   \n",
      "3             (S)  (male, False)            0.723596            0.524719   \n",
      "4          (male)     (S, False)            0.647191            0.479775   \n",
      "5         (False)      (S, male)            0.615730            0.495506   \n",
      "6             (3)         (male)            0.550562            0.647191   \n",
      "7          (male)            (3)            0.647191            0.550562   \n",
      "8          (male)        (False)            0.647191            0.615730   \n",
      "9         (False)         (male)            0.615730            0.647191   \n",
      "10            (S)         (male)            0.723596            0.647191   \n",
      "11         (male)            (S)            0.647191            0.723596   \n",
      "12        (False)        (Adult)            0.615730            0.528090   \n",
      "13        (Adult)        (False)            0.528090            0.615730   \n",
      "14            (S)        (False)            0.723596            0.615730   \n",
      "15        (False)            (S)            0.615730            0.723596   \n",
      "16         (male)        (Adult)            0.647191            0.528090   \n",
      "17        (Adult)         (male)            0.528090            0.647191   \n",
      "18            (S)        (Adult)            0.723596            0.528090   \n",
      "19        (Adult)            (S)            0.528090            0.723596   \n",
      "20            (S)            (3)            0.723596            0.550562   \n",
      "21            (3)            (S)            0.550562            0.723596   \n",
      "22            (3)        (False)            0.550562            0.615730   \n",
      "23        (False)            (3)            0.615730            0.550562   \n",
      "24     (S, False)            (3)            0.479775            0.550562   \n",
      "25         (S, 3)        (False)            0.396629            0.615730   \n",
      "26     (3, False)            (S)            0.416854            0.723596   \n",
      "27            (S)     (3, False)            0.723596            0.416854   \n",
      "28        (False)         (S, 3)            0.615730            0.396629   \n",
      "29            (3)     (S, False)            0.550562            0.479775   \n",
      "30      (3, male)        (False)            0.388764            0.615730   \n",
      "31     (3, False)         (male)            0.416854            0.647191   \n",
      "32  (male, False)            (3)            0.524719            0.550562   \n",
      "33            (3)  (male, False)            0.550562            0.524719   \n",
      "34         (male)     (3, False)            0.647191            0.416854   \n",
      "35        (False)      (3, male)            0.615730            0.388764   \n",
      "\n",
      "     support  confidence      lift  leverage  conviction  \n",
      "0   0.408989    0.825397  1.340517  0.103891    2.200817  \n",
      "1   0.408989    0.852459  1.317168  0.098483    2.391261  \n",
      "2   0.408989    0.779443  1.077181  0.029304    1.253213  \n",
      "3   0.408989    0.565217  1.077181  0.029304    1.093146  \n",
      "4   0.408989    0.631944  1.317168  0.098483    1.413441  \n",
      "5   0.408989    0.664234  1.340517  0.103891    1.502516  \n",
      "6   0.388764    0.706122  1.091057  0.032445    1.200531  \n",
      "7   0.388764    0.600694  1.091057  0.032445    1.125550  \n",
      "8   0.524719    0.810764  1.316752  0.126224    2.030636  \n",
      "9   0.524719    0.852190  1.316752  0.126224    2.386905  \n",
      "10  0.495506    0.684783  1.058084  0.027201    1.119256  \n",
      "11  0.495506    0.765625  1.058084  0.027201    1.179326  \n",
      "12  0.319101    0.518248  0.981364 -0.006060    0.979571  \n",
      "13  0.319101    0.604255  0.981364 -0.006060    0.971004  \n",
      "14  0.479775    0.663043  1.076841  0.034236    1.140413  \n",
      "15  0.479775    0.779197  1.076841  0.034236    1.251815  \n",
      "16  0.340449    0.526042  0.996121 -0.001326    0.995678  \n",
      "17  0.340449    0.644681  0.996121 -0.001326    0.992935  \n",
      "18  0.417978    0.577640  1.093828  0.035854    1.117317  \n",
      "19  0.417978    0.791489  1.093828  0.035854    1.325613  \n",
      "20  0.396629    0.548137  0.995595 -0.001755    0.994633  \n",
      "21  0.396629    0.720408  0.995595 -0.001755    0.988600  \n",
      "22  0.416854    0.757143  1.229666  0.077856    1.582287  \n",
      "23  0.416854    0.677007  1.229666  0.077856    1.391481  \n",
      "24  0.321348    0.669789  1.216556  0.057202    1.361065  \n",
      "25  0.321348    0.810198  1.315833  0.077132    2.024585  \n",
      "26  0.321348    0.770889  1.065360  0.019715    1.206424  \n",
      "27  0.321348    0.444099  1.065360  0.019715    1.049011  \n",
      "28  0.321348    0.521898  1.315833  0.077132    1.262012  \n",
      "29  0.321348    0.583673  1.216556  0.057202    1.249559  \n",
      "30  0.335955    0.864162  1.403475  0.096581    2.828879  \n",
      "31  0.335955    0.805930  1.245274  0.066171    1.817946  \n",
      "32  0.335955    0.640257  1.162916  0.047065    1.249331  \n",
      "33  0.335955    0.610204  1.162916  0.047065    1.219307  \n",
      "34  0.335955    0.519097  1.245274  0.066171    1.212607  \n",
      "35  0.335955    0.545620  1.403475  0.096581    1.345210  \n"
     ]
    },
    {
     "data": {
      "image/png": "[encoded data removed]",
      "text/plain": [
       "<Figure size 432x288 with 1 Axes>"
      ]
     },
     "metadata": {},
     "output_type": "display_data"
    },
    {
     "name": "stdout",
     "output_type": "stream",
     "text": [
      "['antecedents' 'consequents' 'antecedent support' 'consequent support'\n",
      " 'support' 'confidence' 'lift' 'leverage' 'conviction']\n",
      "       antecedents    consequents  antecedent support  consequent support  \\\n",
      "0        (S, male)        (False)            0.495506            0.615730   \n",
      "1       (S, False)         (male)            0.479775            0.647191   \n",
      "2    (male, False)            (S)            0.524719            0.723596   \n",
      "3              (S)  (male, False)            0.723596            0.524719   \n",
      "4           (male)     (S, False)            0.647191            0.479775   \n",
      "5          (False)      (S, male)            0.615730            0.495506   \n",
      "6           (True)       (female)            0.384270            0.352809   \n",
      "7         (female)         (True)            0.352809            0.384270   \n",
      "8              (3)         (male)            0.550562            0.647191   \n",
      "9           (male)            (3)            0.647191            0.550562   \n",
      "10   (male, False)        (Adult)            0.524719            0.528090   \n",
      "11   (male, Adult)        (False)            0.340449            0.615730   \n",
      "12  (False, Adult)         (male)            0.319101            0.647191   \n",
      "13         (Adult)  (male, False)            0.528090            0.524719   \n",
      "14          (True)            (S)            0.384270            0.723596   \n",
      "15          (male)        (False)            0.647191            0.615730   \n",
      "16         (False)         (male)            0.615730            0.647191   \n",
      "17       (S, male)        (Adult)            0.495506            0.528090   \n",
      "18      (S, Adult)         (male)            0.417978            0.647191   \n",
      "19   (male, Adult)            (S)            0.340449            0.723596   \n",
      "20         (Adult)      (S, male)            0.528090            0.495506   \n",
      "21             (S)         (male)            0.723596            0.647191   \n",
      "22          (male)            (S)            0.647191            0.723596   \n",
      "23         (False)        (Adult)            0.615730            0.528090   \n",
      "24         (Adult)        (False)            0.528090            0.615730   \n",
      "25             (S)        (False)            0.723596            0.615730   \n",
      "26         (False)            (S)            0.615730            0.723596   \n",
      "27          (male)        (Adult)            0.647191            0.528090   \n",
      "28         (Adult)         (male)            0.528090            0.647191   \n",
      "29             (S)        (Adult)            0.723596            0.528090   \n",
      "..             ...            ...                 ...                 ...   \n",
      "45      (S, False)      (3, male)            0.479775            0.388764   \n",
      "46          (S, 3)  (male, False)            0.396629            0.524719   \n",
      "47       (3, male)     (S, False)            0.388764            0.479775   \n",
      "48      (3, False)      (S, male)            0.416854            0.495506   \n",
      "49          (True)        (Adult)            0.384270            0.528090   \n",
      "50        (female)            (S)            0.352809            0.723596   \n",
      "51             (3)        (False)            0.550562            0.615730   \n",
      "52         (False)            (3)            0.615730            0.550562   \n",
      "53      (S, False)        (Adult)            0.479775            0.528090   \n",
      "54      (S, Adult)        (False)            0.417978            0.615730   \n",
      "55  (False, Adult)            (S)            0.319101            0.723596   \n",
      "56         (Adult)     (S, False)            0.528090            0.479775   \n",
      "57       (S, male)            (3)            0.495506            0.550562   \n",
      "58          (S, 3)         (male)            0.396629            0.647191   \n",
      "59       (3, male)            (S)            0.388764            0.723596   \n",
      "60             (3)      (S, male)            0.550562            0.495506   \n",
      "61      (S, False)            (3)            0.479775            0.550562   \n",
      "62          (S, 3)        (False)            0.396629            0.615730   \n",
      "63      (3, False)            (S)            0.416854            0.723596   \n",
      "64         (False)         (S, 3)            0.615730            0.396629   \n",
      "65             (3)     (S, False)            0.550562            0.479775   \n",
      "66       (3, male)        (False)            0.388764            0.615730   \n",
      "67      (3, False)         (male)            0.416854            0.647191   \n",
      "68   (male, False)            (3)            0.524719            0.550562   \n",
      "69             (3)  (male, False)            0.550562            0.524719   \n",
      "70          (male)     (3, False)            0.647191            0.416854   \n",
      "71         (False)      (3, male)            0.615730            0.388764   \n",
      "72          (S, 3)        (Adult)            0.396629            0.528090   \n",
      "73      (S, Adult)            (3)            0.417978            0.550562   \n",
      "74      (3, Adult)            (S)            0.248315            0.723596   \n",
      "\n",
      "     support  confidence      lift  leverage  conviction  \n",
      "0   0.408989    0.825397  1.340517  0.103891    2.200817  \n",
      "1   0.408989    0.852459  1.317168  0.098483    2.391261  \n",
      "2   0.408989    0.779443  1.077181  0.029304    1.253213  \n",
      "3   0.408989    0.565217  1.077181  0.029304    1.093146  \n",
      "4   0.408989    0.631944  1.317168  0.098483    1.413441  \n",
      "5   0.408989    0.664234  1.340517  0.103891    1.502516  \n",
      "6   0.261798    0.681287  1.931035  0.126224    2.030636  \n",
      "7   0.261798    0.742038  1.931035  0.126224    2.386905  \n",
      "8   0.388764    0.706122  1.091057  0.032445    1.200531  \n",
      "9   0.388764    0.600694  1.091057  0.032445    1.125550  \n",
      "10  0.275281    0.524625  0.993439 -0.001818    0.992712  \n",
      "11  0.275281    0.808581  1.313206  0.065656    2.007478  \n",
      "12  0.275281    0.862676  1.332954  0.068762    2.569173  \n",
      "13  0.275281    0.521277  0.993439 -0.001818    0.992809  \n",
      "14  0.243820    0.634503  0.876875 -0.034236    0.756243  \n",
      "15  0.524719    0.810764  1.316752  0.126224    2.030636  \n",
      "16  0.524719    0.852190  1.316752  0.126224    2.386905  \n",
      "17  0.277528    0.560091  1.060597  0.015857    1.072744  \n",
      "18  0.277528    0.663978  1.025939  0.007017    1.049960  \n",
      "19  0.277528    0.815182  1.126571  0.031180    1.495546  \n",
      "20  0.277528    0.525532  1.060597  0.015857    1.063284  \n",
      "21  0.495506    0.684783  1.058084  0.027201    1.119256  \n",
      "22  0.495506    0.765625  1.058084  0.027201    1.179326  \n",
      "23  0.319101    0.518248  0.981364 -0.006060    0.979571  \n",
      "24  0.319101    0.604255  0.981364 -0.006060    0.971004  \n",
      "25  0.479775    0.663043  1.076841  0.034236    1.140413  \n",
      "26  0.479775    0.779197  1.076841  0.034236    1.251815  \n",
      "27  0.340449    0.526042  0.996121 -0.001326    0.995678  \n",
      "28  0.340449    0.644681  0.996121 -0.001326    0.992935  \n",
      "29  0.417978    0.577640  1.093828  0.035854    1.117317  \n",
      "..       ...         ...       ...       ...         ...  \n",
      "45  0.259551    0.540984  1.391547  0.073031    1.331621  \n",
      "46  0.259551    0.654391  1.247126  0.051432    1.375198  \n",
      "47  0.259551    0.667630  1.391547  0.073031    1.565198  \n",
      "48  0.259551    0.622642  1.256578  0.052997    1.336910  \n",
      "49  0.208989    0.543860  1.029862  0.006060    1.034572  \n",
      "50  0.228090    0.646497  0.893451 -0.027201    0.781901  \n",
      "51  0.416854    0.757143  1.229666  0.077856    1.582287  \n",
      "52  0.416854    0.677007  1.229666  0.077856    1.391481  \n",
      "53  0.268539    0.559719  1.059893  0.015175    1.071838  \n",
      "54  0.268539    0.642473  1.043433  0.011178    1.074799  \n",
      "55  0.268539    0.841549  1.163011  0.037639    1.744419  \n",
      "56  0.268539    0.508511  1.059893  0.015175    1.058466  \n",
      "57  0.297753    0.600907  1.091443  0.024946    1.126149  \n",
      "58  0.297753    0.750708  1.159948  0.041058    1.415245  \n",
      "59  0.297753    0.765896  1.058459  0.016445    1.180691  \n",
      "60  0.297753    0.540816  1.091443  0.024946    1.098677  \n",
      "61  0.321348    0.669789  1.216556  0.057202    1.361065  \n",
      "62  0.321348    0.810198  1.315833  0.077132    2.024585  \n",
      "63  0.321348    0.770889  1.065360  0.019715    1.206424  \n",
      "64  0.321348    0.521898  1.315833  0.077132    1.262012  \n",
      "65  0.321348    0.583673  1.216556  0.057202    1.249559  \n",
      "66  0.335955    0.864162  1.403475  0.096581    2.828879  \n",
      "67  0.335955    0.805930  1.245274  0.066171    1.817946  \n",
      "68  0.335955    0.640257  1.162916  0.047065    1.249331  \n",
      "69  0.335955    0.610204  1.162916  0.047065    1.219307  \n",
      "70  0.335955    0.519097  1.245274  0.066171    1.212607  \n",
      "71  0.335955    0.545620  1.403475  0.096581    1.345210  \n",
      "72  0.213483    0.538244  1.019227  0.004027    1.021989  \n",
      "73  0.213483    0.510753  0.927694 -0.016639    0.918632  \n",
      "74  0.213483    0.859729  1.188134  0.033804    1.970497  \n",
      "\n",
      "[75 rows x 9 columns]\n"
     ]
    },
    {
     "data": {
      "image/png": "[encoded data removed]",
      "text/plain": [
       "<Figure size 432x288 with 1 Axes>"
      ]
     },
     "metadata": {},
     "output_type": "display_data"
    },
    {
     "name": "stdout",
     "output_type": "stream",
     "text": [
      "['antecedents' 'consequents' 'antecedent support' 'consequent support'\n",
      " 'support' 'confidence' 'lift' 'leverage' 'conviction']\n",
      "         antecedents     consequents  antecedent support  consequent support  \\\n",
      "0          (S, male)         (False)            0.495506            0.615730   \n",
      "1         (S, False)          (male)            0.479775            0.647191   \n",
      "2      (male, False)             (S)            0.524719            0.723596   \n",
      "3                (S)   (male, False)            0.723596            0.524719   \n",
      "4             (male)      (S, False)            0.647191            0.479775   \n",
      "5            (False)       (S, male)            0.615730            0.495506   \n",
      "6             (True)        (female)            0.384270            0.352809   \n",
      "7           (female)          (True)            0.352809            0.384270   \n",
      "8                (3)          (male)            0.550562            0.647191   \n",
      "9             (male)             (3)            0.647191            0.550562   \n",
      "10     (male, Adult)         (False)            0.340449            0.615730   \n",
      "11    (False, Adult)          (male)            0.319101            0.647191   \n",
      "12            (male)  (False, Adult)            0.647191            0.319101   \n",
      "13           (False)   (male, Adult)            0.615730            0.340449   \n",
      "14            (male)         (False)            0.647191            0.615730   \n",
      "15           (False)          (male)            0.615730            0.647191   \n",
      "16         (S, male)         (Adult)            0.495506            0.528090   \n",
      "17        (S, Adult)          (male)            0.417978            0.647191   \n",
      "18     (male, Adult)             (S)            0.340449            0.723596   \n",
      "19               (S)   (male, Adult)            0.723596            0.340449   \n",
      "20            (male)      (S, Adult)            0.647191            0.417978   \n",
      "21           (Adult)       (S, male)            0.528090            0.495506   \n",
      "22               (S)          (male)            0.723596            0.647191   \n",
      "23            (male)             (S)            0.647191            0.723596   \n",
      "24               (S)         (False)            0.723596            0.615730   \n",
      "25           (False)             (S)            0.615730            0.723596   \n",
      "26               (S)         (Adult)            0.723596            0.528090   \n",
      "27           (Adult)             (S)            0.528090            0.723596   \n",
      "28  (S, male, False)         (Adult)            0.408989            0.528090   \n",
      "29  (S, male, Adult)         (False)            0.277528            0.615730   \n",
      "..               ...             ...                 ...                 ...   \n",
      "58               (3)         (False)            0.550562            0.615730   \n",
      "59           (False)             (3)            0.615730            0.550562   \n",
      "60        (S, False)         (Adult)            0.479775            0.528090   \n",
      "61        (S, Adult)         (False)            0.417978            0.615730   \n",
      "62    (False, Adult)             (S)            0.319101            0.723596   \n",
      "63               (S)  (False, Adult)            0.723596            0.319101   \n",
      "64           (False)      (S, Adult)            0.615730            0.417978   \n",
      "65           (Adult)      (S, False)            0.528090            0.479775   \n",
      "66         (S, male)             (3)            0.495506            0.550562   \n",
      "67            (S, 3)          (male)            0.396629            0.647191   \n",
      "68         (3, male)             (S)            0.388764            0.723596   \n",
      "69               (S)       (3, male)            0.723596            0.388764   \n",
      "70            (male)          (S, 3)            0.647191            0.396629   \n",
      "71               (3)       (S, male)            0.550562            0.495506   \n",
      "72        (S, False)             (3)            0.479775            0.550562   \n",
      "73            (S, 3)         (False)            0.396629            0.615730   \n",
      "74        (3, False)             (S)            0.416854            0.723596   \n",
      "75               (S)      (3, False)            0.723596            0.416854   \n",
      "76           (False)          (S, 3)            0.615730            0.396629   \n",
      "77               (3)      (S, False)            0.550562            0.479775   \n",
      "78         (3, male)         (False)            0.388764            0.615730   \n",
      "79        (3, False)          (male)            0.416854            0.647191   \n",
      "80     (male, False)             (3)            0.524719            0.550562   \n",
      "81               (3)   (male, False)            0.550562            0.524719   \n",
      "82            (male)      (3, False)            0.647191            0.416854   \n",
      "83           (False)       (3, male)            0.615730            0.388764   \n",
      "84            (S, 3)         (Adult)            0.396629            0.528090   \n",
      "85        (3, Adult)             (S)            0.248315            0.723596   \n",
      "86               (S)      (3, Adult)            0.723596            0.248315   \n",
      "87           (Adult)          (S, 3)            0.528090            0.396629   \n",
      "\n",
      "     support  confidence      lift  leverage  conviction  \n",
      "0   0.408989    0.825397  1.340517  0.103891    2.200817  \n",
      "1   0.408989    0.852459  1.317168  0.098483    2.391261  \n",
      "2   0.408989    0.779443  1.077181  0.029304    1.253213  \n",
      "3   0.408989    0.565217  1.077181  0.029304    1.093146  \n",
      "4   0.408989    0.631944  1.317168  0.098483    1.413441  \n",
      "5   0.408989    0.664234  1.340517  0.103891    1.502516  \n",
      "6   0.261798    0.681287  1.931035  0.126224    2.030636  \n",
      "7   0.261798    0.742038  1.931035  0.126224    2.386905  \n",
      "8   0.388764    0.706122  1.091057  0.032445    1.200531  \n",
      "9   0.388764    0.600694  1.091057  0.032445    1.125550  \n",
      "10  0.275281    0.808581  1.313206  0.065656    2.007478  \n",
      "11  0.275281    0.862676  1.332954  0.068762    2.569173  \n",
      "12  0.275281    0.425347  1.332954  0.068762    1.184887  \n",
      "13  0.275281    0.447080  1.313206  0.065656    1.192851  \n",
      "14  0.524719    0.810764  1.316752  0.126224    2.030636  \n",
      "15  0.524719    0.852190  1.316752  0.126224    2.386905  \n",
      "16  0.277528    0.560091  1.060597  0.015857    1.072744  \n",
      "17  0.277528    0.663978  1.025939  0.007017    1.049960  \n",
      "18  0.277528    0.815182  1.126571  0.031180    1.495546  \n",
      "19  0.277528    0.383540  1.126571  0.031180    1.069901  \n",
      "20  0.277528    0.428819  1.025939  0.007017    1.018982  \n",
      "21  0.277528    0.525532  1.060597  0.015857    1.063284  \n",
      "22  0.495506    0.684783  1.058084  0.027201    1.119256  \n",
      "23  0.495506    0.765625  1.058084  0.027201    1.179326  \n",
      "24  0.479775    0.663043  1.076841  0.034236    1.140413  \n",
      "25  0.479775    0.779197  1.076841  0.034236    1.251815  \n",
      "26  0.417978    0.577640  1.093828  0.035854    1.117317  \n",
      "27  0.417978    0.791489  1.093828  0.035854    1.325613  \n",
      "28  0.231461    0.565934  1.071662  0.015478    1.087185  \n",
      "29  0.231461    0.834008  1.354502  0.060578    2.314990  \n",
      "..       ...         ...       ...       ...         ...  \n",
      "58  0.416854    0.757143  1.229666  0.077856    1.582287  \n",
      "59  0.416854    0.677007  1.229666  0.077856    1.391481  \n",
      "60  0.268539    0.559719  1.059893  0.015175    1.071838  \n",
      "61  0.268539    0.642473  1.043433  0.011178    1.074799  \n",
      "62  0.268539    0.841549  1.163011  0.037639    1.744419  \n",
      "63  0.268539    0.371118  1.163011  0.037639    1.082713  \n",
      "64  0.268539    0.436131  1.043433  0.011178    1.032195  \n",
      "65  0.268539    0.508511  1.059893  0.015175    1.058466  \n",
      "66  0.297753    0.600907  1.091443  0.024946    1.126149  \n",
      "67  0.297753    0.750708  1.159948  0.041058    1.415245  \n",
      "68  0.297753    0.765896  1.058459  0.016445    1.180691  \n",
      "69  0.297753    0.411491  1.058459  0.016445    1.038617  \n",
      "70  0.297753    0.460069  1.159948  0.041058    1.117497  \n",
      "71  0.297753    0.540816  1.091443  0.024946    1.098677  \n",
      "72  0.321348    0.669789  1.216556  0.057202    1.361065  \n",
      "73  0.321348    0.810198  1.315833  0.077132    2.024585  \n",
      "74  0.321348    0.770889  1.065360  0.019715    1.206424  \n",
      "75  0.321348    0.444099  1.065360  0.019715    1.049011  \n",
      "76  0.321348    0.521898  1.315833  0.077132    1.262012  \n",
      "77  0.321348    0.583673  1.216556  0.057202    1.249559  \n",
      "78  0.335955    0.864162  1.403475  0.096581    2.828879  \n",
      "79  0.335955    0.805930  1.245274  0.066171    1.817946  \n",
      "80  0.335955    0.640257  1.162916  0.047065    1.249331  \n",
      "81  0.335955    0.610204  1.162916  0.047065    1.219307  \n",
      "82  0.335955    0.519097  1.245274  0.066171    1.212607  \n",
      "83  0.335955    0.545620  1.403475  0.096581    1.345210  \n",
      "84  0.213483    0.538244  1.019227  0.004027    1.021989  \n",
      "85  0.213483    0.859729  1.188134  0.033804    1.970497  \n",
      "86  0.213483    0.295031  1.188134  0.033804    1.066267  \n",
      "87  0.213483    0.404255  1.019227  0.004027    1.012801  \n",
      "\n",
      "[88 rows x 9 columns]\n"
     ]
    },
    {
     "data": {
      "image/png": "[encoded data removed]",
      "text/plain": [
       "<Figure size 432x288 with 1 Axes>"
      ]
     },
     "metadata": {},
     "output_type": "display_data"
    }
   ],
   "source": [
    "config = [\n",
    "    ('antecedent support', 0.7),\n",
    "    ('support', 0.5),\n",
    "    ('support', 0.3),\n",
    "    ('confidence', 0.5),\n",
    "    ('conviction', 1)\n",
    "]\n",
    "\n",
    "for metric_type, th in config:\n",
    "    rules = association_rules(output, metric=metric_type, min_threshold=th)\n",
    "    if rules.empty:\n",
    "        print 'Empty Data Frame For Metric Type : ',metric_type,' on Threshold : ',th\n",
    "        continue\n",
    "    print rules.columns.values\n",
    "    print (rules)\n",
    "\n",
    "    support=rules.as_matrix(columns=['support'])\n",
    "    confidence=rules.as_matrix(columns=['confidence'])\n",
    "\n",
    "    plt.scatter(support, confidence, edgecolors='red')\n",
    "    plt.xlabel('support')\n",
    "    plt.ylabel('confidence')\n",
    "    plt.title(metric_type+' : '+str(th))\n",
    "    plt.show()"
   ]
  },
  {
   "cell_type": "code",
   "execution_count": 31,
   "metadata": {
    "scrolled": true
   },
   "outputs": [
    {
     "name": "stdout",
     "output_type": "stream",
     "text": [
      "    support itemsets\n",
      "0  0.242697      (1)\n",
      "1  0.206742      (2)\n",
      "2  0.550562      (3)\n",
      "3  0.528090  (Adult)\n",
      "4  0.188764      (C)\n"
     ]
    }
   ],
   "source": [
    "output = apriori(df, min_support=0.1, use_colnames=oht.columns_)\n",
    "\n",
    "print output.head()"
   ]
  },
  {
   "cell_type": "code",
   "execution_count": 32,
   "metadata": {},
   "outputs": [
    {
     "name": "stdout",
     "output_type": "stream",
     "text": [
      "['antecedents' 'consequents' 'antecedent support' 'consequent support'\n",
      " 'support' 'confidence' 'lift' 'leverage' 'conviction']\n",
      "   antecedents              consequents  antecedent support  \\\n",
      "0          (S)                   (male)            0.723596   \n",
      "1          (S)            (male, False)            0.723596   \n",
      "2          (S)                   (True)            0.723596   \n",
      "3          (S)           (True, female)            0.723596   \n",
      "4          (S)            (male, Adult)            0.723596   \n",
      "5          (S)                  (False)            0.723596   \n",
      "6          (S)                      (2)            0.723596   \n",
      "7          (S)                      (1)            0.723596   \n",
      "8          (S)                (3, male)            0.723596   \n",
      "9          (S)                 (female)            0.723596   \n",
      "10         (S)                      (3)            0.723596   \n",
      "11         (S)     (male, False, Adult)            0.723596   \n",
      "12         (S)         (3, male, False)            0.723596   \n",
      "13         (S)                  (Adult)            0.723596   \n",
      "14         (S)  (3, male, False, Adult)            0.723596   \n",
      "15         (S)                (2, male)            0.723596   \n",
      "16         (S)                (Unknown)            0.723596   \n",
      "17         (S)               (2, Adult)            0.723596   \n",
      "18         (S)         (3, male, Adult)            0.723596   \n",
      "19         (S)           (False, Adult)            0.723596   \n",
      "20         (S)               (3, False)            0.723596   \n",
      "21         (S)               (3, Adult)            0.723596   \n",
      "22         (S)    (True, Adult, female)            0.723596   \n",
      "23         (S)            (True, Adult)            0.723596   \n",
      "24         (S)          (Adult, female)            0.723596   \n",
      "25         (S)        (3, False, Adult)            0.723596   \n",
      "\n",
      "    consequent support   support  confidence      lift  leverage  conviction  \n",
      "0             0.647191  0.495506    0.684783  1.058084  0.027201    1.119256  \n",
      "1             0.524719  0.408989    0.565217  1.077181  0.029304    1.093146  \n",
      "2             0.384270  0.243820    0.336957  0.876875 -0.034236    0.928642  \n",
      "3             0.261798  0.157303    0.217391  0.830379 -0.032132    0.943258  \n",
      "4             0.340449  0.277528    0.383540  1.126571  0.031180    1.069901  \n",
      "5             0.615730  0.479775    0.663043  1.076841  0.034236    1.140413  \n",
      "6             0.206742  0.184270    0.254658  1.231772  0.034672    1.064288  \n",
      "7             0.242697  0.142697    0.197205  0.812558 -0.032918    0.943333  \n",
      "8             0.388764  0.297753    0.411491  1.058459  0.016445    1.038617  \n",
      "9             0.352809  0.228090    0.315217  0.893451 -0.027201    0.945104  \n",
      "10            0.550562  0.396629    0.548137  0.995595 -0.001755    0.994633  \n",
      "11            0.275281  0.231461    0.319876  1.161998  0.032269    1.065569  \n",
      "12            0.335955  0.259551    0.358696  1.067689  0.016455    1.035460  \n",
      "13            0.528090  0.417978    0.577640  1.093828  0.035854    1.117317  \n",
      "14            0.161798  0.140449    0.194099  1.199642  0.023373    1.040081  \n",
      "15            0.121348  0.108989    0.150621  1.241230  0.021182    1.034464  \n",
      "16            0.216854  0.111236    0.153727  0.708895 -0.045679    0.925406  \n",
      "17            0.138202  0.124719    0.172360  1.247160  0.024717    1.041272  \n",
      "18            0.187640  0.161798    0.223602  1.191654  0.026022    1.046319  \n",
      "19            0.319101  0.268539    0.371118  1.163011  0.037639    1.082713  \n",
      "20            0.416854  0.321348    0.444099  1.065360  0.019715    1.049011  \n",
      "21            0.248315  0.213483    0.295031  1.188134  0.033804    1.066267  \n",
      "22            0.143820  0.103371    0.142857  0.993304 -0.000697    0.998876  \n",
      "23            0.208989  0.149438    0.206522  0.988195 -0.001785    0.996891  \n",
      "24            0.187640  0.140449    0.194099  1.034422  0.004674    1.008015  \n",
      "25            0.197753  0.170787    0.236025  1.193535  0.027693    1.050096  \n"
     ]
    },
    {
     "data": {
      "image/png": "[encoded data removed]",
      "text/plain": [
       "<Figure size 432x288 with 1 Axes>"
      ]
     },
     "metadata": {},
     "output_type": "display_data"
    },
    {
     "name": "stdout",
     "output_type": "stream",
     "text": [
      "['antecedents' 'consequents' 'antecedent support' 'consequent support'\n",
      " 'support' 'confidence' 'lift' 'leverage' 'conviction']\n",
      "   antecedents consequents  antecedent support  consequent support   support  \\\n",
      "0  (1, female)      (True)            0.105618            0.384270  0.102247   \n",
      "1   (2, Adult)         (S)            0.138202            0.723596  0.124719   \n",
      "2   (2, False)      (male)            0.108989            0.647191  0.102247   \n",
      "\n",
      "   confidence      lift  leverage  conviction  \n",
      "0    0.968085  2.519286  0.061661   19.292884  \n",
      "1    0.902439  1.247160  0.024717    2.833146  \n",
      "2    0.938144  1.449563  0.031711    5.703745  \n"
     ]
    },
    {
     "data": {
      "image/png": "[encoded data removed]",
      "text/plain": [
       "<Figure size 432x288 with 1 Axes>"
      ]
     },
     "metadata": {},
     "output_type": "display_data"
    },
    {
     "name": "stdout",
     "output_type": "stream",
     "text": [
      "['antecedents' 'consequents' 'antecedent support' 'consequent support'\n",
      " 'support' 'confidence' 'lift' 'leverage' 'conviction']\n",
      "                antecedents consequents  antecedent support  \\\n",
      "0                 (S, male)     (False)            0.495506   \n",
      "1                (S, False)      (male)            0.479775   \n",
      "2             (True, Adult)    (female)            0.208989   \n",
      "3           (Adult, female)      (True)            0.187640   \n",
      "4             (male, Adult)     (False)            0.340449   \n",
      "5            (False, Adult)      (male)            0.319101   \n",
      "6           (Unknown, male)     (False)            0.150562   \n",
      "7          (Unknown, False)      (male)            0.142697   \n",
      "8                    (True)    (female)            0.384270   \n",
      "9                  (female)      (True)            0.352809   \n",
      "10                   (male)     (False)            0.647191   \n",
      "11                  (False)      (male)            0.615730   \n",
      "12              (1, female)      (True)            0.105618   \n",
      "13                      (2)         (S)            0.206742   \n",
      "14         (Unknown, False)         (3)            0.142697   \n",
      "15         (S, male, Adult)     (False)            0.277528   \n",
      "16        (S, False, Adult)      (male)            0.268539   \n",
      "17             (S, male, 3)     (False)            0.297753   \n",
      "18      (S, male, 3, Adult)     (False)            0.161798   \n",
      "19  (3, male, False, Adult)         (S)            0.161798   \n",
      "20         (3, male, Adult)  (S, False)            0.187640   \n",
      "21                (2, male)         (S)            0.121348   \n",
      "22         (3, male, Adult)     (False)            0.187640   \n",
      "23               (2, Adult)         (S)            0.138202   \n",
      "24         (3, male, Adult)         (S)            0.187640   \n",
      "25               (2, False)      (male)            0.108989   \n",
      "26                (2, male)     (False)            0.121348   \n",
      "27                (3, male)     (False)            0.388764   \n",
      "28                   (S, 3)     (False)            0.396629   \n",
      "29         (S, True, Adult)    (female)            0.149438   \n",
      "30       (S, Adult, female)      (True)            0.140449   \n",
      "31        (3, False, Adult)         (S)            0.197753   \n",
      "\n",
      "    consequent support   support  confidence      lift  leverage  conviction  \n",
      "0             0.615730  0.408989    0.825397  1.340517  0.103891    2.200817  \n",
      "1             0.647191  0.408989    0.852459  1.317168  0.098483    2.391261  \n",
      "2             0.352809  0.143820    0.688172  1.950551  0.070087    2.075475  \n",
      "3             0.384270  0.143820    0.766467  1.994607  0.071716    2.636589  \n",
      "4             0.615730  0.275281    0.808581  1.313206  0.065656    2.007478  \n",
      "5             0.647191  0.275281    0.862676  1.332954  0.068762    2.569173  \n",
      "6             0.615730  0.123596    0.820896  1.333206  0.030890    2.145506  \n",
      "7             0.647191  0.123596    0.866142  1.338309  0.031244    2.635691  \n",
      "8             0.352809  0.261798    0.681287  1.931035  0.126224    2.030636  \n",
      "9             0.384270  0.261798    0.742038  1.931035  0.126224    2.386905  \n",
      "10            0.615730  0.524719    0.810764  1.316752  0.126224    2.030636  \n",
      "11            0.647191  0.524719    0.852190  1.316752  0.126224    2.386905  \n",
      "12            0.384270  0.102247    0.968085  2.519286  0.061661   19.292884  \n",
      "13            0.723596  0.184270    0.891304  1.231772  0.034672    2.542921  \n",
      "14            0.550562  0.116854    0.818898  1.487386  0.038291    2.481681  \n",
      "15            0.615730  0.231461    0.834008  1.354502  0.060578    2.314990  \n",
      "16            0.647191  0.231461    0.861925  1.331793  0.057664    2.555192  \n",
      "17            0.615730  0.259551    0.871698  1.415714  0.076215    2.995043  \n",
      "18            0.615730  0.140449    0.868056  1.409798  0.040826    2.912360  \n",
      "19            0.723596  0.140449    0.868056  1.199642  0.023373    2.094855  \n",
      "20            0.479775  0.140449    0.748503  1.560112  0.050424    2.068513  \n",
      "21            0.723596  0.108989    0.898148  1.241230  0.021182    2.713790  \n",
      "22            0.615730  0.161798    0.862275  1.400411  0.046262    2.790132  \n",
      "23            0.723596  0.124719    0.902439  1.247160  0.024717    2.833146  \n",
      "24            0.723596  0.161798    0.862275  1.191654  0.026022    2.006937  \n",
      "25            0.647191  0.102247    0.938144  1.449563  0.031711    5.703745  \n",
      "26            0.615730  0.102247    0.842593  1.368444  0.027529    2.441243  \n",
      "27            0.615730  0.335955    0.864162  1.403475  0.096581    2.828879  \n",
      "28            0.615730  0.321348    0.810198  1.315833  0.077132    2.024585  \n",
      "29            0.352809  0.103371    0.691729  1.960634  0.050648    2.099424  \n",
      "30            0.384270  0.103371    0.736000  1.915322  0.049400    2.332312  \n",
      "31            0.723596  0.170787    0.863636  1.193535  0.027693    2.026966  \n"
     ]
    },
    {
     "data": {
      "image/png": "[encoded data removed]",
      "text/plain": [
       "<Figure size 432x288 with 1 Axes>"
      ]
     },
     "metadata": {},
     "output_type": "display_data"
    }
   ],
   "source": [
    "config = [\n",
    "    ('antecedent support', 0.7),\n",
    "    ('confidence', 0.9),\n",
    "    ('conviction', 2)\n",
    "]\n",
    "\n",
    "for metric_type, th in config:\n",
    "    rules = association_rules(output, metric=metric_type, min_threshold=th)\n",
    "    if rules.empty:\n",
    "        print 'Empty Data Frame For Metric Type : ',metric_type,' on Threshold : ',th\n",
    "        continue\n",
    "    print rules.columns.values\n",
    "    print (rules)\n",
    "\n",
    "    support=rules.as_matrix(columns=['support'])\n",
    "    confidence=rules.as_matrix(columns=['confidence'])\n",
    "\n",
    "    plt.scatter(support, confidence, edgecolors='red')\n",
    "    plt.xlabel('support')\n",
    "    plt.ylabel('confidence')\n",
    "    plt.title(metric_type+' : '+str(th))\n",
    "    plt.show()"
   ]
  },
  {
   "cell_type": "markdown",
   "metadata": {},
   "source": [
    "## Interesting Informations:\n",
    "\n",
    "- Persons Who are Sex: female       With  PcClass: 1, have 96.80 % Confidence Survived : True\n",
    "- Persons Who are PcClass: 2        With  Survived: False, have 93.81% Confidence Sex: Male\n",
    "- Persons Who are Survived : False  With  Age : UnKnown , have 81.88 %  Confidence  PcClass : 3\n",
    "- Persons Who are Age : Adult       With  PcClass : 2   , have 90.2 %   Confidence Embarked : S\n",
    "- Persons Who are Survived: False   With  Age : Adult and PcClass : 3, have 86.36% Confidence Embarked: S"
   ]
  },
  {
   "cell_type": "markdown",
   "metadata": {},
   "source": [
    "## Simple Filtering Example"
   ]
  },
  {
   "cell_type": "code",
   "execution_count": 36,
   "metadata": {},
   "outputs": [
    {
     "data": {
      "text/html": [
       "<div>\n",
       "<style scoped>\n",
       "    .dataframe tbody tr th:only-of-type {\n",
       "        vertical-align: middle;\n",
       "    }\n",
       "\n",
       "    .dataframe tbody tr th {\n",
       "        vertical-align: top;\n",
       "    }\n",
       "\n",
       "    .dataframe thead th {\n",
       "        text-align: right;\n",
       "    }\n",
       "</style>\n",
       "<table border=\"1\" class=\"dataframe\">\n",
       "  <thead>\n",
       "    <tr style=\"text-align: right;\">\n",
       "      <th></th>\n",
       "      <th>antecedents</th>\n",
       "      <th>consequents</th>\n",
       "      <th>antecedent support</th>\n",
       "      <th>consequent support</th>\n",
       "      <th>support</th>\n",
       "      <th>confidence</th>\n",
       "      <th>lift</th>\n",
       "      <th>leverage</th>\n",
       "      <th>conviction</th>\n",
       "    </tr>\n",
       "  </thead>\n",
       "  <tbody>\n",
       "    <tr>\n",
       "      <th>8</th>\n",
       "      <td>(True)</td>\n",
       "      <td>(female)</td>\n",
       "      <td>0.38427</td>\n",
       "      <td>0.352809</td>\n",
       "      <td>0.261798</td>\n",
       "      <td>0.681287</td>\n",
       "      <td>1.931035</td>\n",
       "      <td>0.126224</td>\n",
       "      <td>2.030636</td>\n",
       "    </tr>\n",
       "  </tbody>\n",
       "</table>\n",
       "</div>"
      ],
      "text/plain": [
       "  antecedents consequents  antecedent support  consequent support   support  \\\n",
       "8      (True)    (female)             0.38427            0.352809  0.261798   \n",
       "\n",
       "   confidence      lift  leverage  conviction  \n",
       "8    0.681287  1.931035  0.126224    2.030636  "
      ]
     },
     "execution_count": 36,
     "metadata": {},
     "output_type": "execute_result"
    }
   ],
   "source": [
    "rules[rules['confidence']==rules['confidence'].min()]"
   ]
  },
  {
   "cell_type": "code",
   "execution_count": 37,
   "metadata": {},
   "outputs": [
    {
     "data": {
      "text/html": [
       "<div>\n",
       "<style scoped>\n",
       "    .dataframe tbody tr th:only-of-type {\n",
       "        vertical-align: middle;\n",
       "    }\n",
       "\n",
       "    .dataframe tbody tr th {\n",
       "        vertical-align: top;\n",
       "    }\n",
       "\n",
       "    .dataframe thead th {\n",
       "        text-align: right;\n",
       "    }\n",
       "</style>\n",
       "<table border=\"1\" class=\"dataframe\">\n",
       "  <thead>\n",
       "    <tr style=\"text-align: right;\">\n",
       "      <th></th>\n",
       "      <th>antecedents</th>\n",
       "      <th>consequents</th>\n",
       "      <th>antecedent support</th>\n",
       "      <th>consequent support</th>\n",
       "      <th>support</th>\n",
       "      <th>confidence</th>\n",
       "      <th>lift</th>\n",
       "      <th>leverage</th>\n",
       "      <th>conviction</th>\n",
       "    </tr>\n",
       "  </thead>\n",
       "  <tbody>\n",
       "    <tr>\n",
       "      <th>12</th>\n",
       "      <td>(1, female)</td>\n",
       "      <td>(True)</td>\n",
       "      <td>0.105618</td>\n",
       "      <td>0.38427</td>\n",
       "      <td>0.102247</td>\n",
       "      <td>0.968085</td>\n",
       "      <td>2.519286</td>\n",
       "      <td>0.061661</td>\n",
       "      <td>19.292884</td>\n",
       "    </tr>\n",
       "  </tbody>\n",
       "</table>\n",
       "</div>"
      ],
      "text/plain": [
       "    antecedents consequents  antecedent support  consequent support   support  \\\n",
       "12  (1, female)      (True)            0.105618             0.38427  0.102247   \n",
       "\n",
       "    confidence      lift  leverage  conviction  \n",
       "12    0.968085  2.519286  0.061661   19.292884  "
      ]
     },
     "execution_count": 37,
     "metadata": {},
     "output_type": "execute_result"
    }
   ],
   "source": [
    "rules[rules['confidence']==rules['confidence'].max()]"
   ]
  },
  {
   "cell_type": "code",
   "execution_count": 38,
   "metadata": {},
   "outputs": [],
   "source": [
    "rules = association_rules(output, metric='support', min_threshold=0.1)"
   ]
  },
  {
   "cell_type": "code",
   "execution_count": 39,
   "metadata": {},
   "outputs": [
    {
     "data": {
      "text/html": [
       "<div>\n",
       "<style scoped>\n",
       "    .dataframe tbody tr th:only-of-type {\n",
       "        vertical-align: middle;\n",
       "    }\n",
       "\n",
       "    .dataframe tbody tr th {\n",
       "        vertical-align: top;\n",
       "    }\n",
       "\n",
       "    .dataframe thead th {\n",
       "        text-align: right;\n",
       "    }\n",
       "</style>\n",
       "<table border=\"1\" class=\"dataframe\">\n",
       "  <thead>\n",
       "    <tr style=\"text-align: right;\">\n",
       "      <th></th>\n",
       "      <th>antecedents</th>\n",
       "      <th>consequents</th>\n",
       "      <th>antecedent support</th>\n",
       "      <th>consequent support</th>\n",
       "      <th>support</th>\n",
       "      <th>confidence</th>\n",
       "      <th>lift</th>\n",
       "      <th>leverage</th>\n",
       "      <th>conviction</th>\n",
       "    </tr>\n",
       "  </thead>\n",
       "  <tbody>\n",
       "    <tr>\n",
       "      <th>274</th>\n",
       "      <td>(S)</td>\n",
       "      <td>(True, Adult, female)</td>\n",
       "      <td>0.723596</td>\n",
       "      <td>0.14382</td>\n",
       "      <td>0.103371</td>\n",
       "      <td>0.142857</td>\n",
       "      <td>0.993304</td>\n",
       "      <td>-0.000697</td>\n",
       "      <td>0.998876</td>\n",
       "    </tr>\n",
       "  </tbody>\n",
       "</table>\n",
       "</div>"
      ],
      "text/plain": [
       "    antecedents            consequents  antecedent support  \\\n",
       "274         (S)  (True, Adult, female)            0.723596   \n",
       "\n",
       "     consequent support   support  confidence      lift  leverage  conviction  \n",
       "274             0.14382  0.103371    0.142857  0.993304 -0.000697    0.998876  "
      ]
     },
     "execution_count": 39,
     "metadata": {},
     "output_type": "execute_result"
    }
   ],
   "source": [
    "rules[rules['confidence']==rules['confidence'].min()]"
   ]
  },
  {
   "cell_type": "code",
   "execution_count": 40,
   "metadata": {},
   "outputs": [
    {
     "data": {
      "text/html": [
       "<div>\n",
       "<style scoped>\n",
       "    .dataframe tbody tr th:only-of-type {\n",
       "        vertical-align: middle;\n",
       "    }\n",
       "\n",
       "    .dataframe tbody tr th {\n",
       "        vertical-align: top;\n",
       "    }\n",
       "\n",
       "    .dataframe thead th {\n",
       "        text-align: right;\n",
       "    }\n",
       "</style>\n",
       "<table border=\"1\" class=\"dataframe\">\n",
       "  <thead>\n",
       "    <tr style=\"text-align: right;\">\n",
       "      <th></th>\n",
       "      <th>antecedents</th>\n",
       "      <th>consequents</th>\n",
       "      <th>antecedent support</th>\n",
       "      <th>consequent support</th>\n",
       "      <th>support</th>\n",
       "      <th>confidence</th>\n",
       "      <th>lift</th>\n",
       "      <th>leverage</th>\n",
       "      <th>conviction</th>\n",
       "    </tr>\n",
       "  </thead>\n",
       "  <tbody>\n",
       "    <tr>\n",
       "      <th>55</th>\n",
       "      <td>(1, female)</td>\n",
       "      <td>(True)</td>\n",
       "      <td>0.105618</td>\n",
       "      <td>0.38427</td>\n",
       "      <td>0.102247</td>\n",
       "      <td>0.968085</td>\n",
       "      <td>2.519286</td>\n",
       "      <td>0.061661</td>\n",
       "      <td>19.292884</td>\n",
       "    </tr>\n",
       "  </tbody>\n",
       "</table>\n",
       "</div>"
      ],
      "text/plain": [
       "    antecedents consequents  antecedent support  consequent support   support  \\\n",
       "55  (1, female)      (True)            0.105618             0.38427  0.102247   \n",
       "\n",
       "    confidence      lift  leverage  conviction  \n",
       "55    0.968085  2.519286  0.061661   19.292884  "
      ]
     },
     "execution_count": 40,
     "metadata": {},
     "output_type": "execute_result"
    }
   ],
   "source": [
    "rules[rules['confidence']==rules['confidence'].max()]"
   ]
  }
 ],
 "metadata": {
  "kernelspec": {
   "display_name": "Python 2",
   "language": "python",
   "name": "python2"
  },
  "language_info": {
   "codemirror_mode": {
    "name": "ipython",
    "version": 2
   },
   "file_extension": ".py",
   "mimetype": "text/x-python",
   "name": "python",
   "nbconvert_exporter": "python",
   "pygments_lexer": "ipython2",
   "version": "2.7.15"
  }
 },
 "nbformat": 4,
 "nbformat_minor": 2
}
