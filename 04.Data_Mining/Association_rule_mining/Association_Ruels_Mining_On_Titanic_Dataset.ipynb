{
 "cells": [
  {
   "cell_type": "markdown",
   "metadata": {},
   "source": [
    "# Association Rules Mining With Apriori Algorithm\n",
    "\n",
    "## On Titanic Dataset"
   ]
  },
  {
   "cell_type": "code",
   "execution_count": 79,
   "metadata": {},
   "outputs": [],
   "source": [
    "%matplotlib inline"
   ]
  },
  {
   "cell_type": "markdown",
   "metadata": {},
   "source": [
    "## Imports"
   ]
  },
  {
   "cell_type": "code",
   "execution_count": 80,
   "metadata": {},
   "outputs": [],
   "source": [
    "import matplotlib.pyplot as plt\n",
    "import pandas as pd\n",
    "from mlxtend.preprocessing import TransactionEncoder\n",
    "from mlxtend.frequent_patterns import apriori, association_rules\n",
    "\n",
    "import warnings\n",
    "warnings.filterwarnings(\"ignore\")\n",
    "import seaborn as sns"
   ]
  },
  {
   "cell_type": "markdown",
   "metadata": {},
   "source": [
    "## Loading Dataset"
   ]
  },
  {
   "cell_type": "code",
   "execution_count": 94,
   "metadata": {},
   "outputs": [],
   "source": [
    "titanic = pd.read_csv('/home/bhanuchander/course/Learn_MachineLearning/data/csv/titanic/train.csv')\n",
    "\n",
    "nominal_cols = ['Embarked','Pclass','Age', 'Survived', 'Sex']\n",
    "\n",
    "cat_cols = ['Embarked','Pclass','Age', 'Survived', 'Title']\n",
    "\n",
    "titanic['Title'] = titanic.Name.str.extract('\\, ([A-Z][^ ]*\\.)',expand=False)\n",
    "\n",
    "titanic['Title'].fillna('Title_UK', inplace=True)\n",
    "\n",
    "titanic['Embarked'].fillna('Unknown',inplace=True)\n",
    "\n",
    "titanic['Age'].fillna(0, inplace=True)\n",
    "\n",
    "# Replacing Binary with String\n",
    "rep = {0: \"Dead\", 1: \"Survived\"}\n",
    "\n",
    "titanic.replace({'Survived' : rep}, inplace=True)\n"
   ]
  },
  {
   "cell_type": "markdown",
   "metadata": {},
   "source": [
    "## Binning"
   ]
  },
  {
   "cell_type": "code",
   "execution_count": 95,
   "metadata": {},
   "outputs": [],
   "source": [
    "## Binning Method to categorize the Continous Variables\n",
    "\n",
    "def binning(col, cut_points, labels=None):\n",
    "\n",
    "  minval = col.min()\n",
    "  maxval = col.max()\n",
    "\n",
    "  break_points = [minval] + cut_points + [maxval]\n",
    "\n",
    "\n",
    "  if not labels:\n",
    "    labels = range(len(cut_points)+1)\n",
    "\n",
    "\n",
    "  colBin = pd.cut(col,bins=break_points,labels=labels,include_lowest=True)\n",
    "  return colBin"
   ]
  },
  {
   "cell_type": "code",
   "execution_count": 96,
   "metadata": {},
   "outputs": [],
   "source": [
    "cut_points = [1, 10, 20, 50 ]\n",
    "\n",
    "labels = [\"Unknown\", \"Child\", \"Teen\", \"Adult\", \"Old\"]\n",
    "\n",
    "titanic['Age'] = binning(titanic['Age'], cut_points, labels)\n",
    "\n",
    "in_titanic = titanic[nominal_cols]\n",
    "\n",
    "cat_titanic = titanic[cat_cols]"
   ]
  },
  {
   "cell_type": "code",
   "execution_count": 97,
   "metadata": {},
   "outputs": [
    {
     "data": {
      "text/html": [
       "<div>\n",
       "<style scoped>\n",
       "    .dataframe tbody tr th:only-of-type {\n",
       "        vertical-align: middle;\n",
       "    }\n",
       "\n",
       "    .dataframe tbody tr th {\n",
       "        vertical-align: top;\n",
       "    }\n",
       "\n",
       "    .dataframe thead th {\n",
       "        text-align: right;\n",
       "    }\n",
       "</style>\n",
       "<table border=\"1\" class=\"dataframe\">\n",
       "  <thead>\n",
       "    <tr style=\"text-align: right;\">\n",
       "      <th></th>\n",
       "      <th>Embarked</th>\n",
       "      <th>Pclass</th>\n",
       "      <th>Age</th>\n",
       "      <th>Survived</th>\n",
       "      <th>Sex</th>\n",
       "    </tr>\n",
       "  </thead>\n",
       "  <tbody>\n",
       "    <tr>\n",
       "      <th>0</th>\n",
       "      <td>S</td>\n",
       "      <td>3</td>\n",
       "      <td>Adult</td>\n",
       "      <td>Dead</td>\n",
       "      <td>male</td>\n",
       "    </tr>\n",
       "    <tr>\n",
       "      <th>1</th>\n",
       "      <td>C</td>\n",
       "      <td>1</td>\n",
       "      <td>Adult</td>\n",
       "      <td>Survived</td>\n",
       "      <td>female</td>\n",
       "    </tr>\n",
       "    <tr>\n",
       "      <th>2</th>\n",
       "      <td>S</td>\n",
       "      <td>3</td>\n",
       "      <td>Adult</td>\n",
       "      <td>Survived</td>\n",
       "      <td>female</td>\n",
       "    </tr>\n",
       "    <tr>\n",
       "      <th>3</th>\n",
       "      <td>S</td>\n",
       "      <td>1</td>\n",
       "      <td>Adult</td>\n",
       "      <td>Survived</td>\n",
       "      <td>female</td>\n",
       "    </tr>\n",
       "    <tr>\n",
       "      <th>4</th>\n",
       "      <td>S</td>\n",
       "      <td>3</td>\n",
       "      <td>Adult</td>\n",
       "      <td>Dead</td>\n",
       "      <td>male</td>\n",
       "    </tr>\n",
       "  </tbody>\n",
       "</table>\n",
       "</div>"
      ],
      "text/plain": [
       "  Embarked  Pclass    Age  Survived     Sex\n",
       "0        S       3  Adult      Dead    male\n",
       "1        C       1  Adult  Survived  female\n",
       "2        S       3  Adult  Survived  female\n",
       "3        S       1  Adult  Survived  female\n",
       "4        S       3  Adult      Dead    male"
      ]
     },
     "execution_count": 97,
     "metadata": {},
     "output_type": "execute_result"
    }
   ],
   "source": [
    "in_titanic.head()"
   ]
  },
  {
   "cell_type": "code",
   "execution_count": 98,
   "metadata": {},
   "outputs": [
    {
     "data": {
      "text/html": [
       "<div>\n",
       "<style scoped>\n",
       "    .dataframe tbody tr th:only-of-type {\n",
       "        vertical-align: middle;\n",
       "    }\n",
       "\n",
       "    .dataframe tbody tr th {\n",
       "        vertical-align: top;\n",
       "    }\n",
       "\n",
       "    .dataframe thead th {\n",
       "        text-align: right;\n",
       "    }\n",
       "</style>\n",
       "<table border=\"1\" class=\"dataframe\">\n",
       "  <thead>\n",
       "    <tr style=\"text-align: right;\">\n",
       "      <th></th>\n",
       "      <th>Embarked</th>\n",
       "      <th>Pclass</th>\n",
       "      <th>Age</th>\n",
       "      <th>Survived</th>\n",
       "      <th>Title</th>\n",
       "    </tr>\n",
       "  </thead>\n",
       "  <tbody>\n",
       "    <tr>\n",
       "      <th>0</th>\n",
       "      <td>S</td>\n",
       "      <td>3</td>\n",
       "      <td>Adult</td>\n",
       "      <td>Dead</td>\n",
       "      <td>Mr.</td>\n",
       "    </tr>\n",
       "    <tr>\n",
       "      <th>1</th>\n",
       "      <td>C</td>\n",
       "      <td>1</td>\n",
       "      <td>Adult</td>\n",
       "      <td>Survived</td>\n",
       "      <td>Mrs.</td>\n",
       "    </tr>\n",
       "    <tr>\n",
       "      <th>2</th>\n",
       "      <td>S</td>\n",
       "      <td>3</td>\n",
       "      <td>Adult</td>\n",
       "      <td>Survived</td>\n",
       "      <td>Miss.</td>\n",
       "    </tr>\n",
       "    <tr>\n",
       "      <th>3</th>\n",
       "      <td>S</td>\n",
       "      <td>1</td>\n",
       "      <td>Adult</td>\n",
       "      <td>Survived</td>\n",
       "      <td>Mrs.</td>\n",
       "    </tr>\n",
       "    <tr>\n",
       "      <th>4</th>\n",
       "      <td>S</td>\n",
       "      <td>3</td>\n",
       "      <td>Adult</td>\n",
       "      <td>Dead</td>\n",
       "      <td>Mr.</td>\n",
       "    </tr>\n",
       "  </tbody>\n",
       "</table>\n",
       "</div>"
      ],
      "text/plain": [
       "  Embarked  Pclass    Age  Survived  Title\n",
       "0        S       3  Adult      Dead    Mr.\n",
       "1        C       1  Adult  Survived   Mrs.\n",
       "2        S       3  Adult  Survived  Miss.\n",
       "3        S       1  Adult  Survived   Mrs.\n",
       "4        S       3  Adult      Dead    Mr."
      ]
     },
     "execution_count": 98,
     "metadata": {},
     "output_type": "execute_result"
    }
   ],
   "source": [
    "cat_titanic.head()"
   ]
  },
  {
   "cell_type": "markdown",
   "metadata": {},
   "source": [
    "# Dava Visualization with Plots"
   ]
  },
  {
   "cell_type": "code",
   "execution_count": 104,
   "metadata": {},
   "outputs": [
    {
     "data": {
      "image/png": "[encoded data removed]",
      "text/plain": [
       "<Figure size 432x288 with 1 Axes>"
      ]
     },
     "metadata": {},
     "output_type": "display_data"
    },
    {
     "data": {
      "image/png": "[encoded data removed]",
      "text/plain": [
       "<Figure size 432x288 with 1 Axes>"
      ]
     },
     "metadata": {},
     "output_type": "display_data"
    },
    {
     "data": {
      "image/png": "[encoded data removed]",
      "text/plain": [
       "<Figure size 432x288 with 1 Axes>"
      ]
     },
     "metadata": {},
     "output_type": "display_data"
    },
    {
     "data": {
      "image/png": "[encoded data removed]",
      "text/plain": [
       "<Figure size 432x288 with 1 Axes>"
      ]
     },
     "metadata": {},
     "output_type": "display_data"
    },
    {
     "data": {
      "image/png": "[encoded data removed]",
      "text/plain": [
       "<Figure size 432x288 with 1 Axes>"
      ]
     },
     "metadata": {},
     "output_type": "display_data"
    }
   ],
   "source": [
    "for x in ['Embarked', 'Pclass','Age', 'Sex', 'Title']:\n",
    "    sns.set(style=\"whitegrid\")\n",
    "    ax = sns.countplot(y=x, hue=\"Survived\", data=titanic)\n",
    "    plt.ylabel(x)\n",
    "    plt.title('Survival Plot')\n",
    "    plt.show()"
   ]
  },
  {
   "cell_type": "markdown",
   "metadata": {},
   "source": [
    "# Analysis \n",
    "\n",
    "- Gender Wise\n",
    "- Title Wise"
   ]
  },
  {
   "cell_type": "markdown",
   "metadata": {},
   "source": [
    "## Gender Wise\n",
    "---"
   ]
  },
  {
   "cell_type": "code",
   "execution_count": 105,
   "metadata": {},
   "outputs": [
    {
     "name": "stdout",
     "output_type": "stream",
     "text": [
      "       1      2      3  Adult      C  Child   Dead    Old      Q      S  \\\n",
      "0  False  False   True   True  False  False   True  False  False   True   \n",
      "1   True  False  False   True   True  False  False  False  False  False   \n",
      "2  False  False   True   True  False  False  False  False  False   True   \n",
      "3   True  False  False   True  False  False  False  False  False   True   \n",
      "4  False  False   True   True  False  False   True  False  False   True   \n",
      "\n",
      "   Survived   Teen  Unknown  female   male  \n",
      "0     False  False    False   False   True  \n",
      "1      True  False    False    True  False  \n",
      "2      True  False    False    True  False  \n",
      "3      True  False    False    True  False  \n",
      "4     False  False    False   False   True  \n"
     ]
    }
   ],
   "source": [
    "dataset = []\n",
    "for i in range(0, in_titanic.shape[0]-1):\n",
    "    dataset.append([str(in_titanic.values[i,j]) for j in range(0, in_titanic.shape[1])])\n",
    "# dataset = in_titanic.to_xarray()\n",
    "\n",
    "oht = TransactionEncoder()\n",
    "oht_ary = oht.fit(dataset).transform(dataset)\n",
    "df = pd.DataFrame(oht_ary, columns=oht.columns_)\n",
    "print df.head()"
   ]
  },
  {
   "cell_type": "markdown",
   "metadata": {},
   "source": [
    "## All Nominal Values"
   ]
  },
  {
   "cell_type": "code",
   "execution_count": 106,
   "metadata": {},
   "outputs": [
    {
     "name": "stdout",
     "output_type": "stream",
     "text": [
      "['1', '2', '3', 'Adult', 'C', 'Child', 'Dead', 'Old', 'Q', 'S', 'Survived', 'Teen', 'Unknown', 'female', 'male']\n"
     ]
    }
   ],
   "source": [
    "print oht.columns_"
   ]
  },
  {
   "cell_type": "code",
   "execution_count": 107,
   "metadata": {},
   "outputs": [
    {
     "name": "stdout",
     "output_type": "stream",
     "text": [
      "    support itemsets\n",
      "0  0.242697      (1)\n",
      "1  0.206742      (2)\n",
      "2  0.550562      (3)\n",
      "3  0.528090  (Adult)\n",
      "4  0.615730   (Dead)\n"
     ]
    }
   ],
   "source": [
    "output = apriori(df, min_support=0.2, use_colnames=oht.columns_)\n",
    "\n",
    "print output.head()"
   ]
  },
  {
   "cell_type": "code",
   "execution_count": 108,
   "metadata": {},
   "outputs": [
    {
     "name": "stdout",
     "output_type": "stream",
     "text": [
      "male      577\n",
      "female    314\n",
      "Name: Sex, dtype: int64\n"
     ]
    }
   ],
   "source": [
    "print in_titanic['Sex'].value_counts()"
   ]
  },
  {
   "cell_type": "code",
   "execution_count": 111,
   "metadata": {},
   "outputs": [
    {
     "name": "stdout",
     "output_type": "stream",
     "text": [
      "['antecedents' 'consequents' 'antecedent support' 'consequent support'\n",
      " 'support' 'confidence' 'lift' 'leverage' 'conviction']\n",
      "-------------------------------------\n",
      "Configuration :  antecedent support  :  0.7\n",
      "-------------------------------------\n",
      "   antecedents                consequents  antecedent support  \\\n",
      "0          (S)                     (male)            0.723596   \n",
      "1          (S)              (Adult, Dead)            0.723596   \n",
      "2          (S)  (female, Adult, Survived)            0.723596   \n",
      "3          (S)               (male, Dead)            0.723596   \n",
      "4          (S)          (Adult, Survived)            0.723596   \n",
      "5          (S)              (male, Adult)            0.723596   \n",
      "6          (S)                  (2, male)            0.723596   \n",
      "7          (S)                        (2)            0.723596   \n",
      "8          (S)         (Survived, female)            0.723596   \n",
      "9          (S)                     (Dead)            0.723596   \n",
      "10         (S)                        (1)            0.723596   \n",
      "11         (S)                   (female)            0.723596   \n",
      "12         (S)                        (3)            0.723596   \n",
      "13         (S)                  (3, male)            0.723596   \n",
      "14         (S)            (Adult, female)            0.723596   \n",
      "15         (S)                    (Adult)            0.723596   \n",
      "16         (S)                  (Unknown)            0.723596   \n",
      "17         (S)           (3, Adult, Dead)            0.723596   \n",
      "18         (S)                 (2, Adult)            0.723596   \n",
      "19         (S)           (3, male, Adult)            0.723596   \n",
      "20         (S)                  (3, Dead)            0.723596   \n",
      "21         (S)                 (3, Adult)            0.723596   \n",
      "22         (S)        (male, Adult, Dead)            0.723596   \n",
      "23         (S)            (3, male, Dead)            0.723596   \n",
      "24         (S)                 (Survived)            0.723596   \n",
      "25         (S)     (3, male, Adult, Dead)            0.723596   \n",
      "\n",
      "    consequent support   support  confidence      lift  leverage  conviction  \n",
      "0             0.647191  0.495506    0.684783  1.058084  0.027201    1.119256  \n",
      "1             0.319101  0.268539    0.371118  1.163011  0.037639    1.082713  \n",
      "2             0.143820  0.103371    0.142857  0.993304 -0.000697    0.998876  \n",
      "3             0.524719  0.408989    0.565217  1.077181  0.029304    1.093146  \n",
      "4             0.208989  0.149438    0.206522  0.988195 -0.001785    0.996891  \n",
      "5             0.340449  0.277528    0.383540  1.126571  0.031180    1.069901  \n",
      "6             0.121348  0.108989    0.150621  1.241230  0.021182    1.034464  \n",
      "7             0.206742  0.184270    0.254658  1.231772  0.034672    1.064288  \n",
      "8             0.261798  0.157303    0.217391  0.830379 -0.032132    0.943258  \n",
      "9             0.615730  0.479775    0.663043  1.076841  0.034236    1.140413  \n",
      "10            0.242697  0.142697    0.197205  0.812558 -0.032918    0.943333  \n",
      "11            0.352809  0.228090    0.315217  0.893451 -0.027201    0.945104  \n",
      "12            0.550562  0.396629    0.548137  0.995595 -0.001755    0.994633  \n",
      "13            0.388764  0.297753    0.411491  1.058459  0.016445    1.038617  \n",
      "14            0.187640  0.140449    0.194099  1.034422  0.004674    1.008015  \n",
      "15            0.528090  0.417978    0.577640  1.093828  0.035854    1.117317  \n",
      "16            0.216854  0.111236    0.153727  0.708895 -0.045679    0.925406  \n",
      "17            0.197753  0.170787    0.236025  1.193535  0.027693    1.050096  \n",
      "18            0.138202  0.124719    0.172360  1.247160  0.024717    1.041272  \n",
      "19            0.187640  0.161798    0.223602  1.191654  0.026022    1.046319  \n",
      "20            0.416854  0.321348    0.444099  1.065360  0.019715    1.049011  \n",
      "21            0.248315  0.213483    0.295031  1.188134  0.033804    1.066267  \n",
      "22            0.275281  0.231461    0.319876  1.161998  0.032269    1.065569  \n",
      "23            0.335955  0.259551    0.358696  1.067689  0.016455    1.035460  \n",
      "24            0.384270  0.243820    0.336957  0.876875 -0.034236    0.928642  \n",
      "25            0.161798  0.140449    0.194099  1.199642  0.023373    1.040081  \n"
     ]
    },
    {
     "data": {
      "image/png": "[encoded data removed]",
      "text/plain": [
       "<Figure size 432x288 with 1 Axes>"
      ]
     },
     "metadata": {},
     "output_type": "display_data"
    },
    {
     "name": "stdout",
     "output_type": "stream",
     "text": [
      "['antecedents' 'consequents' 'antecedent support' 'consequent support'\n",
      " 'support' 'confidence' 'lift' 'leverage' 'conviction']\n",
      "-------------------------------------\n",
      "Configuration :  support  :  0.5\n",
      "-------------------------------------\n",
      "  antecedents consequents  antecedent support  consequent support   support  \\\n",
      "0      (male)      (Dead)            0.647191            0.615730  0.524719   \n",
      "1      (Dead)      (male)            0.615730            0.647191  0.524719   \n",
      "\n",
      "   confidence      lift  leverage  conviction  \n",
      "0    0.810764  1.316752  0.126224    2.030636  \n",
      "1    0.852190  1.316752  0.126224    2.386905  \n"
     ]
    },
    {
     "data": {
      "image/png": "[encoded data removed]",
      "text/plain": [
       "<Figure size 432x288 with 1 Axes>"
      ]
     },
     "metadata": {},
     "output_type": "display_data"
    },
    {
     "name": "stdout",
     "output_type": "stream",
     "text": [
      "['antecedents' 'consequents' 'antecedent support' 'consequent support'\n",
      " 'support' 'confidence' 'lift' 'leverage' 'conviction']\n",
      "-------------------------------------\n",
      "Configuration :  confidence  :  0.8\n",
      "-------------------------------------\n",
      "               antecedents consequents  antecedent support  \\\n",
      "0              (1, female)  (Survived)            0.105618   \n",
      "1            (Adult, Dead)         (S)            0.319101   \n",
      "2                (2, male)      (Dead)            0.121348   \n",
      "3                (2, Dead)      (male)            0.108989   \n",
      "4          (Unknown, male)      (Dead)            0.150562   \n",
      "5          (Unknown, Dead)      (male)            0.142697   \n",
      "6                (S, male)      (Dead)            0.495506   \n",
      "7                (S, Dead)      (male)            0.479775   \n",
      "8                   (male)      (Dead)            0.647191   \n",
      "9                   (Dead)      (male)            0.615730   \n",
      "10           (male, Adult)         (S)            0.340449   \n",
      "11               (2, male)         (S)            0.121348   \n",
      "12                     (2)         (S)            0.206742   \n",
      "13           (S, 3, Adult)      (Dead)            0.213483   \n",
      "14        (3, Adult, Dead)         (S)            0.197753   \n",
      "15        (3, male, Adult)      (Dead)            0.187640   \n",
      "16        (3, Adult, Dead)      (male)            0.197753   \n",
      "17              (2, Adult)         (S)            0.138202   \n",
      "18         (Unknown, Dead)         (3)            0.142697   \n",
      "19        (3, male, Adult)         (S)            0.187640   \n",
      "20           (male, Adult)      (Dead)            0.340449   \n",
      "21           (Adult, Dead)      (male)            0.319101   \n",
      "22               (3, male)      (Dead)            0.388764   \n",
      "23               (3, Dead)      (male)            0.416854   \n",
      "24                  (S, 3)      (Dead)            0.396629   \n",
      "25              (3, Adult)         (S)            0.248315   \n",
      "26        (S, male, Adult)      (Dead)            0.277528   \n",
      "27        (S, Adult, Dead)      (male)            0.268539   \n",
      "28     (male, Adult, Dead)         (S)            0.275281   \n",
      "29            (S, male, 3)      (Dead)            0.297753   \n",
      "30            (S, 3, Dead)      (male)            0.321348   \n",
      "31     (S, male, 3, Adult)      (Dead)            0.161798   \n",
      "32     (S, 3, Dead, Adult)      (male)            0.170787   \n",
      "33  (3, male, Adult, Dead)         (S)            0.161798   \n",
      "\n",
      "    consequent support   support  confidence      lift  leverage  conviction  \n",
      "0             0.384270  0.102247    0.968085  2.519286  0.061661   19.292884  \n",
      "1             0.723596  0.268539    0.841549  1.163011  0.037639    1.744419  \n",
      "2             0.615730  0.102247    0.842593  1.368444  0.027529    2.441243  \n",
      "3             0.647191  0.102247    0.938144  1.449563  0.031711    5.703745  \n",
      "4             0.615730  0.123596    0.820896  1.333206  0.030890    2.145506  \n",
      "5             0.647191  0.123596    0.866142  1.338309  0.031244    2.635691  \n",
      "6             0.615730  0.408989    0.825397  1.340517  0.103891    2.200817  \n",
      "7             0.647191  0.408989    0.852459  1.317168  0.098483    2.391261  \n",
      "8             0.615730  0.524719    0.810764  1.316752  0.126224    2.030636  \n",
      "9             0.647191  0.524719    0.852190  1.316752  0.126224    2.386905  \n",
      "10            0.723596  0.277528    0.815182  1.126571  0.031180    1.495546  \n",
      "11            0.723596  0.108989    0.898148  1.241230  0.021182    2.713790  \n",
      "12            0.723596  0.184270    0.891304  1.231772  0.034672    2.542921  \n",
      "13            0.615730  0.170787    0.800000  1.299270  0.039338    1.921348  \n",
      "14            0.723596  0.170787    0.863636  1.193535  0.027693    2.026966  \n",
      "15            0.615730  0.161798    0.862275  1.400411  0.046262    2.790132  \n",
      "16            0.647191  0.161798    0.818182  1.264205  0.033814    1.940449  \n",
      "17            0.723596  0.124719    0.902439  1.247160  0.024717    2.833146  \n",
      "18            0.550562  0.116854    0.818898  1.487386  0.038291    2.481681  \n",
      "19            0.723596  0.161798    0.862275  1.191654  0.026022    2.006937  \n",
      "20            0.615730  0.275281    0.808581  1.313206  0.065656    2.007478  \n",
      "21            0.647191  0.275281    0.862676  1.332954  0.068762    2.569173  \n",
      "22            0.615730  0.335955    0.864162  1.403475  0.096581    2.828879  \n",
      "23            0.647191  0.335955    0.805930  1.245274  0.066171    1.817946  \n",
      "24            0.615730  0.321348    0.810198  1.315833  0.077132    2.024585  \n",
      "25            0.723596  0.213483    0.859729  1.188134  0.033804    1.970497  \n",
      "26            0.615730  0.231461    0.834008  1.354502  0.060578    2.314990  \n",
      "27            0.647191  0.231461    0.861925  1.331793  0.057664    2.555192  \n",
      "28            0.723596  0.231461    0.840816  1.161998  0.032269    1.736387  \n",
      "29            0.615730  0.259551    0.871698  1.415714  0.076215    2.995043  \n",
      "30            0.647191  0.259551    0.807692  1.247997  0.051577    1.834607  \n",
      "31            0.615730  0.140449    0.868056  1.409798  0.040826    2.912360  \n",
      "32            0.647191  0.140449    0.822368  1.270673  0.029918    1.986184  \n",
      "33            0.723596  0.140449    0.868056  1.199642  0.023373    2.094855  \n"
     ]
    },
    {
     "data": {
      "image/png": "[encoded data removed]",
      "text/plain": [
       "<Figure size 432x288 with 1 Axes>"
      ]
     },
     "metadata": {},
     "output_type": "display_data"
    },
    {
     "name": "stdout",
     "output_type": "stream",
     "text": [
      "['antecedents' 'consequents' 'antecedent support' 'consequent support'\n",
      " 'support' 'confidence' 'lift' 'leverage' 'conviction']\n",
      "-------------------------------------\n",
      "Configuration :  conviction  :  3\n",
      "-------------------------------------\n",
      "   antecedents consequents  antecedent support  consequent support   support  \\\n",
      "0  (1, female)  (Survived)            0.105618            0.384270  0.102247   \n",
      "1    (2, Dead)      (male)            0.108989            0.647191  0.102247   \n",
      "\n",
      "   confidence      lift  leverage  conviction  \n",
      "0    0.968085  2.519286  0.061661   19.292884  \n",
      "1    0.938144  1.449563  0.031711    5.703745  \n"
     ]
    },
    {
     "data": {
      "image/png": "[encoded data removed]",
      "text/plain": [
       "<Figure size 432x288 with 1 Axes>"
      ]
     },
     "metadata": {},
     "output_type": "display_data"
    }
   ],
   "source": [
    "config = [\n",
    "    ('antecedent support', 0.7),\n",
    "    ('support', 0.5),\n",
    "    ('confidence', 0.8),\n",
    "    ('conviction', 3)\n",
    "]\n",
    "\n",
    "for metric_type, th in config:\n",
    "    rules = association_rules(output, metric=metric_type, min_threshold=th)\n",
    "    if rules.empty:\n",
    "        print 'Empty Data Frame For Metric Type : ',metric_type,' on Threshold : ',th\n",
    "        continue\n",
    "    print rules.columns.values\n",
    "    print '-------------------------------------'\n",
    "    print 'Configuration : ', metric_type, ' : ', th\n",
    "    print '-------------------------------------'\n",
    "    print (rules)\n",
    "\n",
    "    support=rules.as_matrix(columns=['support'])\n",
    "    confidence=rules.as_matrix(columns=['confidence'])\n",
    "\n",
    "    plt.scatter(support, confidence, edgecolors='red')\n",
    "    plt.xlabel('support')\n",
    "    plt.ylabel('confidence')\n",
    "    plt.title(metric_type+' : '+str(th))\n",
    "    plt.show()"
   ]
  },
  {
   "cell_type": "markdown",
   "metadata": {},
   "source": [
    "## Interesting Informations: Gender Analysis\n",
    "\n",
    "- Persons Who are Sex: female       With  PcClass: 1, have 96.80 % Confidence Survived : True\n",
    "- Persons Who are PcClass: 2        With  Survived: False, have 93.81% Confidence Sex: Male"
   ]
  },
  {
   "cell_type": "markdown",
   "metadata": {},
   "source": [
    "## Common Information:\n",
    "\n",
    "- Persons Who are Survived : False  With  Age : UnKnown , have 81.88 %  Confidence  PcClass : 3\n",
    "- Persons Who are Age : Adult       With  PcClass : 2   , have 90.2 %   Confidence Embarked : S\n",
    "- Persons Who are Survived: False   With  Age : Adult and PcClass : 3, have 86.36% Confidence Embarked: S"
   ]
  },
  {
   "cell_type": "markdown",
   "metadata": {},
   "source": [
    "# Title Analysis\n",
    "---"
   ]
  },
  {
   "cell_type": "code",
   "execution_count": 114,
   "metadata": {},
   "outputs": [
    {
     "name": "stdout",
     "output_type": "stream",
     "text": [
      "       1      2      3  Adult      C  Capt.  Child   Col.   Dead   Don.  \\\n",
      "0  False  False   True   True  False  False  False  False   True  False   \n",
      "1   True  False  False   True   True  False  False  False  False  False   \n",
      "2  False  False   True   True  False  False  False  False  False  False   \n",
      "3   True  False  False   True  False  False  False  False  False  False   \n",
      "4  False  False   True   True  False  False  False  False   True  False   \n",
      "\n",
      "    ...       Ms.    Old      Q   Rev.      S   Sir.  Survived   Teen  \\\n",
      "0   ...     False  False  False  False   True  False     False  False   \n",
      "1   ...     False  False  False  False  False  False      True  False   \n",
      "2   ...     False  False  False  False   True  False      True  False   \n",
      "3   ...     False  False  False  False   True  False      True  False   \n",
      "4   ...     False  False  False  False   True  False     False  False   \n",
      "\n",
      "   Title_UK  Unknown  \n",
      "0     False    False  \n",
      "1     False    False  \n",
      "2     False    False  \n",
      "3     False    False  \n",
      "4     False    False  \n",
      "\n",
      "[5 rows x 30 columns]\n"
     ]
    }
   ],
   "source": [
    "dataset = []\n",
    "in_titanic=cat_titanic\n",
    "for i in range(0, in_titanic.shape[0]-1):\n",
    "    dataset.append([str(in_titanic.values[i,j]) for j in range(0, in_titanic.shape[1])])\n",
    "# dataset = in_titanic.to_xarray()\n",
    "\n",
    "oht = TransactionEncoder()\n",
    "oht_ary = oht.fit(dataset).transform(dataset)\n",
    "df = pd.DataFrame(oht_ary, columns=oht.columns_)\n",
    "print df.head()"
   ]
  },
  {
   "cell_type": "markdown",
   "metadata": {},
   "source": [
    "## All Nominal values:"
   ]
  },
  {
   "cell_type": "code",
   "execution_count": 116,
   "metadata": {},
   "outputs": [
    {
     "name": "stdout",
     "output_type": "stream",
     "text": [
      "['1', '2', '3', 'Adult', 'C', 'Capt.', 'Child', 'Col.', 'Dead', 'Don.', 'Dr.', 'Jonkheer.', 'Lady.', 'Major.', 'Master.', 'Miss.', 'Mlle.', 'Mme.', 'Mr.', 'Mrs.', 'Ms.', 'Old', 'Q', 'Rev.', 'S', 'Sir.', 'Survived', 'Teen', 'Title_UK', 'Unknown']\n"
     ]
    }
   ],
   "source": [
    "print oht.columns_"
   ]
  },
  {
   "cell_type": "code",
   "execution_count": 117,
   "metadata": {},
   "outputs": [
    {
     "name": "stdout",
     "output_type": "stream",
     "text": [
      "    support itemsets\n",
      "0  0.242697      (1)\n",
      "1  0.206742      (2)\n",
      "2  0.550562      (3)\n",
      "3  0.528090  (Adult)\n",
      "4  0.615730   (Dead)\n"
     ]
    }
   ],
   "source": [
    "output = apriori(df, min_support=0.2, use_colnames=oht.columns_)\n",
    "\n",
    "print output.head()"
   ]
  },
  {
   "cell_type": "code",
   "execution_count": 118,
   "metadata": {},
   "outputs": [
    {
     "name": "stdout",
     "output_type": "stream",
     "text": [
      "['antecedents' 'consequents' 'antecedent support' 'consequent support'\n",
      " 'support' 'confidence' 'lift' 'leverage' 'conviction']\n",
      "-------------------------------------\n",
      "Configuration :  antecedent support  :  0.7\n",
      "-------------------------------------\n",
      "   antecedents         consequents  antecedent support  consequent support  \\\n",
      "0          (S)       (Adult, Dead)            0.723596            0.319101   \n",
      "1          (S)               (Mr.)            0.723596            0.579775   \n",
      "2          (S)              (Dead)            0.723596            0.615730   \n",
      "3          (S)             (Adult)            0.723596            0.528090   \n",
      "4          (S)                 (3)            0.723596            0.550562   \n",
      "5          (S)         (Mr., Dead)            0.723596            0.488764   \n",
      "6          (S)        (Mr., Adult)            0.723596            0.328090   \n",
      "7          (S)      (Mr., 3, Dead)            0.723596            0.316854   \n",
      "8          (S)           (3, Dead)            0.723596            0.416854   \n",
      "9          (S)          (3, Adult)            0.723596            0.248315   \n",
      "10         (S)          (Survived)            0.723596            0.384270   \n",
      "11         (S)  (Mr., Adult, Dead)            0.723596            0.266292   \n",
      "12         (S)            (3, Mr.)            0.723596            0.357303   \n",
      "\n",
      "     support  confidence      lift  leverage  conviction  \n",
      "0   0.268539    0.371118  1.163011  0.037639    1.082713  \n",
      "1   0.446067    0.616460  1.063273  0.026545    1.095647  \n",
      "2   0.479775    0.663043  1.076841  0.034236    1.140413  \n",
      "3   0.417978    0.577640  1.093828  0.035854    1.117317  \n",
      "4   0.396629    0.548137  0.995595 -0.001755    0.994633  \n",
      "5   0.382022    0.527950  1.080174  0.028355    1.083013  \n",
      "6   0.269663    0.372671  1.135880  0.032259    1.071065  \n",
      "7   0.244944    0.338509  1.068345  0.015670    1.032737  \n",
      "8   0.321348    0.444099  1.065360  0.019715    1.049011  \n",
      "9   0.213483    0.295031  1.188134  0.033804    1.066267  \n",
      "10  0.243820    0.336957  0.876875 -0.034236    0.928642  \n",
      "11  0.224719    0.310559  1.166234  0.032031    1.064207  \n",
      "12  0.275281    0.380435  1.064739  0.016738    1.037335  \n"
     ]
    },
    {
     "data": {
      "image/png": "[encoded data removed]",
      "text/plain": [
       "<Figure size 432x288 with 1 Axes>"
      ]
     },
     "metadata": {},
     "output_type": "display_data"
    },
    {
     "name": "stdout",
     "output_type": "stream",
     "text": [
      "Empty Data Frame For Metric Type :  support  on Threshold :  0.5\n",
      "['antecedents' 'consequents' 'antecedent support' 'consequent support'\n",
      " 'support' 'confidence' 'lift' 'leverage' 'conviction']\n",
      "-------------------------------------\n",
      "Configuration :  confidence  :  0.8\n",
      "-------------------------------------\n",
      "           antecedents consequents  antecedent support  consequent support  \\\n",
      "0        (Adult, Dead)         (S)            0.319101            0.723596   \n",
      "1             (3, Mr.)      (Dead)            0.357303            0.615730   \n",
      "2             (S, Mr.)      (Dead)            0.446067            0.615730   \n",
      "3         (Mr., Adult)         (S)            0.328090            0.723596   \n",
      "4          (S, Mr., 3)      (Dead)            0.275281            0.615730   \n",
      "5         (Mr., Adult)      (Dead)            0.328090            0.615730   \n",
      "6        (Adult, Dead)       (Mr.)            0.319101            0.579775   \n",
      "7               (S, 3)      (Dead)            0.396629            0.615730   \n",
      "8           (3, Adult)         (S)            0.248315            0.723596   \n",
      "9                (Mr.)      (Dead)            0.579775            0.615730   \n",
      "10     (S, Mr., Adult)      (Dead)            0.269663            0.615730   \n",
      "11    (S, Adult, Dead)       (Mr.)            0.268539            0.579775   \n",
      "12  (Mr., Adult, Dead)         (S)            0.266292            0.723596   \n",
      "\n",
      "     support  confidence      lift  leverage  conviction  \n",
      "0   0.268539    0.841549  1.163011  0.037639    1.744419  \n",
      "1   0.316854    0.886792  1.440229  0.096851    3.394382  \n",
      "2   0.382022    0.856423  1.390906  0.107365    2.676404  \n",
      "3   0.269663    0.821918  1.135880  0.032259    1.552118  \n",
      "4   0.244944    0.889796  1.445107  0.075445    3.486891  \n",
      "5   0.266292    0.811644  1.318181  0.064277    2.040123  \n",
      "6   0.266292    0.834507  1.439363  0.081285    2.539230  \n",
      "7   0.321348    0.810198  1.315833  0.077132    2.024585  \n",
      "8   0.213483    0.859729  1.188134  0.033804    1.970497  \n",
      "9   0.488764    0.843023  1.369144  0.131779    2.447940  \n",
      "10  0.224719    0.833333  1.353406  0.058679    2.305618  \n",
      "11  0.224719    0.836820  1.443352  0.069027    2.575223  \n",
      "12  0.224719    0.843882  1.166234  0.032031    1.770483  \n"
     ]
    },
    {
     "data": {
      "image/png": "[encoded data removed]",
      "text/plain": [
       "<Figure size 432x288 with 1 Axes>"
      ]
     },
     "metadata": {},
     "output_type": "display_data"
    },
    {
     "name": "stdout",
     "output_type": "stream",
     "text": [
      "['antecedents' 'consequents' 'antecedent support' 'consequent support'\n",
      " 'support' 'confidence' 'lift' 'leverage' 'conviction']\n",
      "-------------------------------------\n",
      "Configuration :  conviction  :  3\n",
      "-------------------------------------\n",
      "   antecedents consequents  antecedent support  consequent support   support  \\\n",
      "0     (3, Mr.)      (Dead)            0.357303             0.61573  0.316854   \n",
      "1  (S, Mr., 3)      (Dead)            0.275281             0.61573  0.244944   \n",
      "\n",
      "   confidence      lift  leverage  conviction  \n",
      "0    0.886792  1.440229  0.096851    3.394382  \n",
      "1    0.889796  1.445107  0.075445    3.486891  \n"
     ]
    },
    {
     "data": {
      "image/png": "[encoded data removed]",
      "text/plain": [
       "<Figure size 432x288 with 1 Axes>"
      ]
     },
     "metadata": {},
     "output_type": "display_data"
    }
   ],
   "source": [
    "config = [\n",
    "    ('antecedent support', 0.7),\n",
    "    ('support', 0.5),\n",
    "    ('confidence', 0.8),\n",
    "    ('conviction', 3)\n",
    "]\n",
    "\n",
    "for metric_type, th in config:\n",
    "    rules = association_rules(output, metric=metric_type, min_threshold=th)\n",
    "    if rules.empty:\n",
    "        print 'Empty Data Frame For Metric Type : ',metric_type,' on Threshold : ',th\n",
    "        continue\n",
    "    print rules.columns.values\n",
    "    print '-------------------------------------'\n",
    "    print 'Configuration : ', metric_type, ' : ', th\n",
    "    print '-------------------------------------'\n",
    "    print (rules)\n",
    "\n",
    "    support=rules.as_matrix(columns=['support'])\n",
    "    confidence=rules.as_matrix(columns=['confidence'])\n",
    "\n",
    "    plt.scatter(support, confidence, edgecolors='red')\n",
    "    plt.xlabel('support')\n",
    "    plt.ylabel('confidence')\n",
    "    plt.title(metric_type+' : '+str(th))\n",
    "    plt.show()"
   ]
  },
  {
   "cell_type": "markdown",
   "metadata": {},
   "source": [
    "## Simple Filtering Example"
   ]
  },
  {
   "cell_type": "code",
   "execution_count": 36,
   "metadata": {},
   "outputs": [
    {
     "data": {
      "text/html": [
       "<div>\n",
       "<style scoped>\n",
       "    .dataframe tbody tr th:only-of-type {\n",
       "        vertical-align: middle;\n",
       "    }\n",
       "\n",
       "    .dataframe tbody tr th {\n",
       "        vertical-align: top;\n",
       "    }\n",
       "\n",
       "    .dataframe thead th {\n",
       "        text-align: right;\n",
       "    }\n",
       "</style>\n",
       "<table border=\"1\" class=\"dataframe\">\n",
       "  <thead>\n",
       "    <tr style=\"text-align: right;\">\n",
       "      <th></th>\n",
       "      <th>antecedents</th>\n",
       "      <th>consequents</th>\n",
       "      <th>antecedent support</th>\n",
       "      <th>consequent support</th>\n",
       "      <th>support</th>\n",
       "      <th>confidence</th>\n",
       "      <th>lift</th>\n",
       "      <th>leverage</th>\n",
       "      <th>conviction</th>\n",
       "    </tr>\n",
       "  </thead>\n",
       "  <tbody>\n",
       "    <tr>\n",
       "      <th>8</th>\n",
       "      <td>(True)</td>\n",
       "      <td>(female)</td>\n",
       "      <td>0.38427</td>\n",
       "      <td>0.352809</td>\n",
       "      <td>0.261798</td>\n",
       "      <td>0.681287</td>\n",
       "      <td>1.931035</td>\n",
       "      <td>0.126224</td>\n",
       "      <td>2.030636</td>\n",
       "    </tr>\n",
       "  </tbody>\n",
       "</table>\n",
       "</div>"
      ],
      "text/plain": [
       "  antecedents consequents  antecedent support  consequent support   support  \\\n",
       "8      (True)    (female)             0.38427            0.352809  0.261798   \n",
       "\n",
       "   confidence      lift  leverage  conviction  \n",
       "8    0.681287  1.931035  0.126224    2.030636  "
      ]
     },
     "execution_count": 36,
     "metadata": {},
     "output_type": "execute_result"
    }
   ],
   "source": [
    "rules[rules['confidence']==rules['confidence'].min()]"
   ]
  },
  {
   "cell_type": "code",
   "execution_count": 37,
   "metadata": {},
   "outputs": [
    {
     "data": {
      "text/html": [
       "<div>\n",
       "<style scoped>\n",
       "    .dataframe tbody tr th:only-of-type {\n",
       "        vertical-align: middle;\n",
       "    }\n",
       "\n",
       "    .dataframe tbody tr th {\n",
       "        vertical-align: top;\n",
       "    }\n",
       "\n",
       "    .dataframe thead th {\n",
       "        text-align: right;\n",
       "    }\n",
       "</style>\n",
       "<table border=\"1\" class=\"dataframe\">\n",
       "  <thead>\n",
       "    <tr style=\"text-align: right;\">\n",
       "      <th></th>\n",
       "      <th>antecedents</th>\n",
       "      <th>consequents</th>\n",
       "      <th>antecedent support</th>\n",
       "      <th>consequent support</th>\n",
       "      <th>support</th>\n",
       "      <th>confidence</th>\n",
       "      <th>lift</th>\n",
       "      <th>leverage</th>\n",
       "      <th>conviction</th>\n",
       "    </tr>\n",
       "  </thead>\n",
       "  <tbody>\n",
       "    <tr>\n",
       "      <th>12</th>\n",
       "      <td>(1, female)</td>\n",
       "      <td>(True)</td>\n",
       "      <td>0.105618</td>\n",
       "      <td>0.38427</td>\n",
       "      <td>0.102247</td>\n",
       "      <td>0.968085</td>\n",
       "      <td>2.519286</td>\n",
       "      <td>0.061661</td>\n",
       "      <td>19.292884</td>\n",
       "    </tr>\n",
       "  </tbody>\n",
       "</table>\n",
       "</div>"
      ],
      "text/plain": [
       "    antecedents consequents  antecedent support  consequent support   support  \\\n",
       "12  (1, female)      (True)            0.105618             0.38427  0.102247   \n",
       "\n",
       "    confidence      lift  leverage  conviction  \n",
       "12    0.968085  2.519286  0.061661   19.292884  "
      ]
     },
     "execution_count": 37,
     "metadata": {},
     "output_type": "execute_result"
    }
   ],
   "source": [
    "rules[rules['confidence']==rules['confidence'].max()]"
   ]
  },
  {
   "cell_type": "code",
   "execution_count": 38,
   "metadata": {},
   "outputs": [],
   "source": [
    "rules = association_rules(output, metric='support', min_threshold=0.1)"
   ]
  },
  {
   "cell_type": "code",
   "execution_count": 39,
   "metadata": {},
   "outputs": [
    {
     "data": {
      "text/html": [
       "<div>\n",
       "<style scoped>\n",
       "    .dataframe tbody tr th:only-of-type {\n",
       "        vertical-align: middle;\n",
       "    }\n",
       "\n",
       "    .dataframe tbody tr th {\n",
       "        vertical-align: top;\n",
       "    }\n",
       "\n",
       "    .dataframe thead th {\n",
       "        text-align: right;\n",
       "    }\n",
       "</style>\n",
       "<table border=\"1\" class=\"dataframe\">\n",
       "  <thead>\n",
       "    <tr style=\"text-align: right;\">\n",
       "      <th></th>\n",
       "      <th>antecedents</th>\n",
       "      <th>consequents</th>\n",
       "      <th>antecedent support</th>\n",
       "      <th>consequent support</th>\n",
       "      <th>support</th>\n",
       "      <th>confidence</th>\n",
       "      <th>lift</th>\n",
       "      <th>leverage</th>\n",
       "      <th>conviction</th>\n",
       "    </tr>\n",
       "  </thead>\n",
       "  <tbody>\n",
       "    <tr>\n",
       "      <th>274</th>\n",
       "      <td>(S)</td>\n",
       "      <td>(True, Adult, female)</td>\n",
       "      <td>0.723596</td>\n",
       "      <td>0.14382</td>\n",
       "      <td>0.103371</td>\n",
       "      <td>0.142857</td>\n",
       "      <td>0.993304</td>\n",
       "      <td>-0.000697</td>\n",
       "      <td>0.998876</td>\n",
       "    </tr>\n",
       "  </tbody>\n",
       "</table>\n",
       "</div>"
      ],
      "text/plain": [
       "    antecedents            consequents  antecedent support  \\\n",
       "274         (S)  (True, Adult, female)            0.723596   \n",
       "\n",
       "     consequent support   support  confidence      lift  leverage  conviction  \n",
       "274             0.14382  0.103371    0.142857  0.993304 -0.000697    0.998876  "
      ]
     },
     "execution_count": 39,
     "metadata": {},
     "output_type": "execute_result"
    }
   ],
   "source": [
    "rules[rules['confidence']==rules['confidence'].min()]"
   ]
  },
  {
   "cell_type": "code",
   "execution_count": 40,
   "metadata": {},
   "outputs": [
    {
     "data": {
      "text/html": [
       "<div>\n",
       "<style scoped>\n",
       "    .dataframe tbody tr th:only-of-type {\n",
       "        vertical-align: middle;\n",
       "    }\n",
       "\n",
       "    .dataframe tbody tr th {\n",
       "        vertical-align: top;\n",
       "    }\n",
       "\n",
       "    .dataframe thead th {\n",
       "        text-align: right;\n",
       "    }\n",
       "</style>\n",
       "<table border=\"1\" class=\"dataframe\">\n",
       "  <thead>\n",
       "    <tr style=\"text-align: right;\">\n",
       "      <th></th>\n",
       "      <th>antecedents</th>\n",
       "      <th>consequents</th>\n",
       "      <th>antecedent support</th>\n",
       "      <th>consequent support</th>\n",
       "      <th>support</th>\n",
       "      <th>confidence</th>\n",
       "      <th>lift</th>\n",
       "      <th>leverage</th>\n",
       "      <th>conviction</th>\n",
       "    </tr>\n",
       "  </thead>\n",
       "  <tbody>\n",
       "    <tr>\n",
       "      <th>55</th>\n",
       "      <td>(1, female)</td>\n",
       "      <td>(True)</td>\n",
       "      <td>0.105618</td>\n",
       "      <td>0.38427</td>\n",
       "      <td>0.102247</td>\n",
       "      <td>0.968085</td>\n",
       "      <td>2.519286</td>\n",
       "      <td>0.061661</td>\n",
       "      <td>19.292884</td>\n",
       "    </tr>\n",
       "  </tbody>\n",
       "</table>\n",
       "</div>"
      ],
      "text/plain": [
       "    antecedents consequents  antecedent support  consequent support   support  \\\n",
       "55  (1, female)      (True)            0.105618             0.38427  0.102247   \n",
       "\n",
       "    confidence      lift  leverage  conviction  \n",
       "55    0.968085  2.519286  0.061661   19.292884  "
      ]
     },
     "execution_count": 40,
     "metadata": {},
     "output_type": "execute_result"
    }
   ],
   "source": [
    "rules[rules['confidence']==rules['confidence'].max()]"
   ]
  }
 ],
 "metadata": {
  "kernelspec": {
   "display_name": "Python 2",
   "language": "python",
   "name": "python2"
  },
  "language_info": {
   "codemirror_mode": {
    "name": "ipython",
    "version": 2
   },
   "file_extension": ".py",
   "mimetype": "text/x-python",
   "name": "python",
   "nbconvert_exporter": "python",
   "pygments_lexer": "ipython2",
   "version": "2.7.15"
  }
 },
 "nbformat": 4,
 "nbformat_minor": 2
}
