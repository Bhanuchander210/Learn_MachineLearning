{
 "cells": [
  {
   "cell_type": "markdown",
   "metadata": {},
   "source": [
    "# Evaluating Association Rule Mining Algorithms\n",
    "\n",
    "##  Interms of RunTime\n",
    "\n",
    "- Apriori\n",
    "- FP-Growth\n",
    "\n",
    "### Note:\n",
    "\n",
    "FP-Growth Algorithm needs further more process to get all paramers like ['antecedent support' 'consequent support' 'support' 'confidence' 'lift' 'leverage' 'conviction']"
   ]
  },
  {
   "cell_type": "code",
   "execution_count": 1,
   "metadata": {},
   "outputs": [],
   "source": [
    "import pandas as pd\n",
    "from mlxtend.preprocessing import TransactionEncoder\n",
    "from mlxtend.frequent_patterns import apriori, association_rules\n",
    "import pyfpgrowth\n",
    "\n",
    "import warnings\n",
    "warnings.filterwarnings(\"ignore\")\n",
    "\n",
    "import time"
   ]
  },
  {
   "cell_type": "markdown",
   "metadata": {},
   "source": [
    "## Data Organizing Area"
   ]
  },
  {
   "cell_type": "code",
   "execution_count": 2,
   "metadata": {},
   "outputs": [],
   "source": [
    "## Nominal Data Association With Apriori Algorithm\n",
    "\n",
    "titanic = pd.read_csv('/home/bhanuchander/course/Learn_MachineLearning/data/csv/titanic/train.csv')\n",
    "\n",
    "\n",
    "nominal_cols = ['Embarked','Pclass','Age', 'Survived', 'Sex']\n",
    "\n",
    "in_titanic= titanic[nominal_cols]\n",
    "\n",
    "in_titanic['Embarked'].fillna('Unknown',inplace=True)\n",
    "\n",
    "in_titanic['Age'].fillna(0, inplace=True)\n",
    "\n",
    "## Binning Method to categorize the Continous Variables\n",
    "\n",
    "def binning(col, cut_points, labels=None):\n",
    "\n",
    "  minval = col.min()\n",
    "  maxval = col.max()\n",
    "\n",
    "  break_points = [minval] + cut_points + [maxval]\n",
    "\n",
    "\n",
    "  if not labels:\n",
    "    labels = range(len(cut_points)+1)\n",
    "\n",
    "\n",
    "  colBin = pd.cut(col,bins=break_points,labels=labels,include_lowest=True)\n",
    "  return colBin\n",
    "\n",
    "cut_points = [1, 10, 20, 50 ]\n",
    "\n",
    "labels = [\"Unknown\", \"Child\", \"Teen\", \"Adult\", \"Old\"]\n",
    "\n",
    "in_titanic['Age'] = binning(in_titanic['Age'], cut_points, labels)\n",
    "\n",
    "# Replacing Binary with String\n",
    "rep = {0: \"False\", 1: \"True\"}\n",
    "\n",
    "in_titanic.replace({'Survived' : rep}, inplace=True)\n",
    "\n",
    "alarm = pd.read_csv('/home/bhanuchander/alarm.csv')\n",
    "\n",
    "names = ['OBJECTTYPE', 'LAYERRATE', 'PROBABLECAUSEQUALIFIER', 'NATIVEPROBABLECAUSE', 'SEVERITY']\n",
    "\n",
    "alarm = alarm[names]\n",
    "\n",
    "alarm.fillna('Unknown', inplace=True)\n",
    "\n",
    "alarm1 = pd.read_csv('/home/bhanuchander/cat.csv')\n",
    "\n",
    "alarm1 = alarm1[names]\n",
    "\n",
    "alarm1.fillna('Unknown', inplace=True)"
   ]
  },
  {
   "cell_type": "markdown",
   "metadata": {},
   "source": [
    "## Evaluating the Algorithms"
   ]
  },
  {
   "cell_type": "code",
   "execution_count": 3,
   "metadata": {},
   "outputs": [
    {
     "name": "stdout",
     "output_type": "stream",
     "text": [
      "For Data Matrix          :  891  x  5\n",
      "Number of Individuals    :  15\n",
      "Apriori                  :  0.872148990631\n",
      "FP-Algorithm             :  0.0637619495392\n",
      "--------------------------\n",
      "For Data Matrix          :  17999  x  5\n",
      "Number of Individuals    :  25\n",
      "Apriori                  :  0.493063926697\n",
      "FP-Algorithm             :  0.621915102005\n",
      "--------------------------\n",
      "For Data Matrix          :  35998  x  5\n",
      "Number of Individuals    :  25\n",
      "Apriori                  :  0.990983963013\n",
      "FP-Algorithm             :  1.18582415581\n",
      "--------------------------\n"
     ]
    }
   ],
   "source": [
    "for in_titanic in [in_titanic, alarm, alarm1]:\n",
    "\n",
    "    r = in_titanic.shape[0]\n",
    "    c = in_titanic.shape[1]\n",
    "\n",
    "\n",
    "    dataset = []\n",
    "    ## Time For apriori\n",
    "    start_time_ap = time.time()\n",
    "    for i in range(0, r-1):\n",
    "        dataset.append([str(in_titanic.values[i,j]) for j in range(0, c)])\n",
    "\n",
    "\n",
    "    oht = TransactionEncoder()\n",
    "    oht_ary = oht.fit(dataset).transform(dataset)\n",
    "    df = pd.DataFrame(oht_ary, columns=oht.columns_)\n",
    "\n",
    "\n",
    "    output = apriori(df, min_support=0.2, use_colnames=oht.columns_)\n",
    "    rules = association_rules(output, metric='confidence', min_threshold=0.1)\n",
    "    ap_time = (time.time() - start_time_ap)\n",
    "\n",
    "    start_time = time.time()\n",
    "    patterns = pyfpgrowth.find_frequent_patterns(in_titanic.values, 0.1)\n",
    "    rules = pyfpgrowth.generate_association_rules(patterns, 0.1)\n",
    "    fptime= (time.time() - start_time)\n",
    "\n",
    "\n",
    "    print 'For Data Matrix          : ', r, ' x ', c\n",
    "    print 'Number of Individuals    : ', df.shape[1]\n",
    "    print 'Apriori                  : ', ap_time\n",
    "    print 'FP-Algorithm             : ', fptime\n",
    "    print '--------------------------'"
   ]
  },
  {
   "cell_type": "markdown",
   "metadata": {},
   "source": [
    "## Notes:\n",
    "\n",
    "FP-Growth is an improvement of apriori algorithm, designed to remove some disadvantages in apriori.\n",
    "\n",
    "Apriori will repeatedly scan the database to count the support of each pattern. Where FP-Growth scans only 2 times.\n",
    "\n",
    "Normally FP-Algorithm has less memory usage and less runtime"
   ]
  }
 ],
 "metadata": {
  "kernelspec": {
   "display_name": "Python 2",
   "language": "python",
   "name": "python2"
  },
  "language_info": {
   "codemirror_mode": {
    "name": "ipython",
    "version": 2
   },
   "file_extension": ".py",
   "mimetype": "text/x-python",
   "name": "python",
   "nbconvert_exporter": "python",
   "pygments_lexer": "ipython2",
   "version": "2.7.15"
  }
 },
 "nbformat": 4,
 "nbformat_minor": 2
}
