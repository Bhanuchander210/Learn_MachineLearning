{
 "cells": [
  {
   "cell_type": "markdown",
   "metadata": {},
   "source": [
    "# Feature importance With IRIS - Data\n",
    "\n",
    "### Method Introduced to evaluate the importance for various classifiers"
   ]
  },
  {
   "cell_type": "code",
   "execution_count": 5,
   "metadata": {},
   "outputs": [],
   "source": [
    "%matplotlib inline"
   ]
  },
  {
   "cell_type": "code",
   "execution_count": 6,
   "metadata": {},
   "outputs": [],
   "source": [
    "def get_feature_importances(clf, X_train, y_train=None,\n",
    "                             top_n=10, figsize=(8, 8), enable_plot=True, print_table=False, title=\"Feature Importances\"):\n",
    "\n",
    "\n",
    "    __name__ = \"get_feature_importances\"\n",
    "\n",
    "    import pandas as pd\n",
    "    import matplotlib.pyplot as plt\n",
    "\n",
    "    from xgboost.core import XGBoostError\n",
    "\n",
    "\n",
    "    try:\n",
    "        if not hasattr(clf, 'feature_importances_'):\n",
    "            clf.fit(X_train.values, y_train.values.ravel())\n",
    "\n",
    "            if not hasattr(clf, 'feature_importances_'):\n",
    "                raise AttributeError(\"{} does not have feature_importances_ attribute\".\n",
    "                                     format(clf.__class__.__name__))\n",
    "\n",
    "    except (XGBoostError, ValueError):\n",
    "        clf.fit(X_train.values, y_train.values.ravel())\n",
    "\n",
    "    feat_imp = pd.DataFrame({title : clf.feature_importances_})\n",
    "    # feat_imp = pd.DataFrame(clf.feature_importances_, columns=[title])\n",
    "    feat_imp['feature'] = X_train.columns\n",
    "    feat_imp.sort_values(by= title, ascending=False, inplace=True)\n",
    "    feat_imp = feat_imp.iloc[:top_n]\n",
    "\n",
    "    feat_imp.sort_values(by= title, inplace=True, ascending=False)\n",
    "    pltdf = feat_imp.set_index('feature', drop=True)\n",
    "\n",
    "    if enable_plot:\n",
    "        pltdf.plot.barh(title=title, figsize=figsize)\n",
    "        plt.xlabel('Feature Importance Score')\n",
    "        plt.show()\n",
    "\n",
    "    if print_table:\n",
    "        from IPython.display import display\n",
    "        print(\"Top {} features in descending order of importance\".format(top_n))\n",
    "        display(pltdf.sort_values(by= title, ascending=False))\n",
    "\n",
    "    return feat_imp, title"
   ]
  },
  {
   "cell_type": "markdown",
   "metadata": {},
   "source": [
    "### Importing Various classifiers"
   ]
  },
  {
   "cell_type": "code",
   "execution_count": 7,
   "metadata": {},
   "outputs": [],
   "source": [
    "from xgboost              import XGBClassifier\n",
    "from sklearn.ensemble     import ExtraTreesClassifier\n",
    "from sklearn.tree         import ExtraTreeClassifier\n",
    "from sklearn.tree         import DecisionTreeClassifier\n",
    "from sklearn.ensemble     import GradientBoostingClassifier\n",
    "from sklearn.ensemble     import BaggingClassifier\n",
    "from sklearn.ensemble     import AdaBoostClassifier\n",
    "from sklearn.ensemble     import RandomForestClassifier\n",
    "from sklearn.linear_model import LogisticRegression\n",
    "import pandas"
   ]
  },
  {
   "cell_type": "markdown",
   "metadata": {},
   "source": [
    "### Loading Iris Data and classifiers"
   ]
  },
  {
   "cell_type": "code",
   "execution_count": 8,
   "metadata": {},
   "outputs": [],
   "source": [
    "clfs = [XGBClassifier(),\n",
    "        ExtraTreesClassifier(),       ExtraTreeClassifier(),\n",
    "        BaggingClassifier(),          DecisionTreeClassifier(),\n",
    "        GradientBoostingClassifier(), LogisticRegression(),\n",
    "        AdaBoostClassifier(),         RandomForestClassifier()]\n",
    "\n",
    "url = \"../data/csv/iris.csv\"\n",
    "names = ['sepal-length', 'sepal-width', 'petal-length', 'petal-width', 'class']\n",
    "dataset = pandas.read_csv(url, names=names)\n",
    "\n",
    "X_train = dataset.iloc[:,0:4]\n",
    "Y_train = dataset['class']"
   ]
  },
  {
   "cell_type": "code",
   "execution_count": 12,
   "metadata": {},
   "outputs": [
    {
     "name": "stdout",
     "output_type": "stream",
     "text": [
      "BaggingClassifier does not have feature_importances_ attribute\n",
      "LogisticRegression does not have feature_importances_ attribute\n",
      "              XGBClassifier  ExtraTreesClassifier  ExtraTreeClassifier  \\\n",
      "feature                                                                  \n",
      "petal-length       0.414795              0.520471             0.233814   \n",
      "petal-width        0.295905              0.402774             0.606980   \n",
      "sepal-length       0.177015              0.031115             0.123087   \n",
      "sepal-width        0.112285              0.045640             0.036119   \n",
      "\n",
      "              DecisionTreeClassifier  GradientBoostingClassifier  \\\n",
      "feature                                                            \n",
      "petal-length                0.064056                    0.342893   \n",
      "petal-width                 0.922611                    0.398051   \n",
      "sepal-length                0.000000                    0.079436   \n",
      "sepal-width                 0.013333                    0.106287   \n",
      "\n",
      "              AdaBoostClassifier  RandomForestClassifier  \n",
      "feature                                                   \n",
      "petal-length                 0.5                0.505050  \n",
      "petal-width                  0.5                0.360255  \n",
      "sepal-length                 0.0                0.111191  \n",
      "sepal-width                  0.0                0.023504  \n"
     ]
    }
   ],
   "source": [
    "result = pandas.DataFrame()\n",
    "for clf in clfs:\n",
    "    try:\n",
    "        fi, classifier_name = get_feature_importances(clf, X_train, Y_train,enable_plot=False, top_n=X_train.shape[1], title=clf.__class__.__name__)\n",
    "        if result.empty:\n",
    "            result=fi\n",
    "        else:\n",
    "            result = pandas.merge(result, fi, on='feature')\n",
    "    except AttributeError as e:\n",
    "        print(e)\n",
    "\n",
    "result = result.set_index('feature', drop=True)\n",
    "\n",
    "print result"
   ]
  },
  {
   "cell_type": "code",
   "execution_count": null,
   "metadata": {},
   "outputs": [],
   "source": []
  }
 ],
 "metadata": {
  "kernelspec": {
   "display_name": "Python 2",
   "language": "python",
   "name": "python2"
  },
  "language_info": {
   "codemirror_mode": {
    "name": "ipython",
    "version": 2
   },
   "file_extension": ".py",
   "mimetype": "text/x-python",
   "name": "python",
   "nbconvert_exporter": "python",
   "pygments_lexer": "ipython2",
   "version": "2.7.15"
  }
 },
 "nbformat": 4,
 "nbformat_minor": 2
}
