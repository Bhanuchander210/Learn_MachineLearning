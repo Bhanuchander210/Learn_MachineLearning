{
 "cells": [
  {
   "cell_type": "markdown",
   "metadata": {},
   "source": [
    "# Chi2 Test For Titanic Data On Nominal Columns\n",
    "\n",
    "---\n",
    "\n",
    "### KeyWords\n",
    "\n",
    "- Feature Analysis\n",
    "- Chi2"
   ]
  },
  {
   "cell_type": "markdown",
   "metadata": {},
   "source": [
    "## Imports\n",
    "---"
   ]
  },
  {
   "cell_type": "code",
   "execution_count": 1,
   "metadata": {},
   "outputs": [],
   "source": [
    "import pandas as pd\n",
    "from scipy import stats\n",
    "import warnings\n",
    "warnings.filterwarnings(\"ignore\")"
   ]
  },
  {
   "cell_type": "markdown",
   "metadata": {},
   "source": [
    "## Chi2 Class"
   ]
  },
  {
   "cell_type": "code",
   "execution_count": 2,
   "metadata": {},
   "outputs": [],
   "source": [
    "class ChiSquare:\n",
    "\n",
    "    def __init__(self, dataframe):\n",
    "        self.df = dataframe\n",
    "        self.p = None  # P-Value\n",
    "        self.chi2 = None  # Chi Test Statistic\n",
    "        self.dof = None\n",
    "\n",
    "        self.dfObserved = None\n",
    "        self.dfExpected = None\n",
    "\n",
    "    def _print_chisquare_result(self, colX, alpha):\n",
    "        result = \"\"\n",
    "        if self.p<alpha:\n",
    "            result=\"{0} is IMPORTANT for Prediction\".format(colX)\n",
    "        else:\n",
    "            result=\"{0} is NOT an important predictor. (Discard {0} from model)\".format(colX)\n",
    "\n",
    "        print(result)\n",
    "\n",
    "    def TestIndependence(self, colX, colY, alpha=0.05):\n",
    "        X = self.df[colX].astype(str)\n",
    "        Y = self.df[colY].astype(str)\n",
    "\n",
    "        self.dfObserved = pd.crosstab(Y, X)\n",
    "        chi2, p, dof, expected = stats.chi2_contingency(self.dfObserved.values)\n",
    "        self.p = p\n",
    "        self.chi2 = chi2\n",
    "        self.dof = dof\n",
    "\n",
    "        self.dfExpected = pd.DataFrame(expected, columns=self.dfObserved.columns, index=self.dfObserved.index)\n",
    "\n",
    "        self._print_chisquare_result(colX, alpha)"
   ]
  },
  {
   "cell_type": "markdown",
   "metadata": {},
   "source": [
    "## Data Preparation\n",
    "---"
   ]
  },
  {
   "cell_type": "code",
   "execution_count": 3,
   "metadata": {},
   "outputs": [
    {
     "name": "stdout",
     "output_type": "stream",
     "text": [
      "  Embarked  Pclass    Age Survived     Sex\n",
      "0        S       3  Adult    False    male\n",
      "1        C       1  Adult     True  female\n",
      "2        S       3  Adult     True  female\n",
      "3        S       1  Adult     True  female\n",
      "4        S       3  Adult    False    male\n"
     ]
    }
   ],
   "source": [
    "## Nominal Data Association With Apriori Algorithm\n",
    "\n",
    "titanic = pd.read_csv('/home/bhanuchander/course/Learn_MachineLearning/data/csv/titanic/train.csv')\n",
    "\n",
    "\n",
    "nominal_cols = ['Embarked','Pclass','Age', 'Survived', 'Sex']\n",
    "\n",
    "in_titanic= titanic[nominal_cols]\n",
    "\n",
    "in_titanic['Embarked'].fillna('Unknown',inplace=True)\n",
    "\n",
    "in_titanic['Age'].fillna(0, inplace=True)\n",
    "\n",
    "## Binning Method to categorize the Continous Variables\n",
    "\n",
    "def binning(col, cut_points, labels=None):\n",
    "\n",
    "  minval = col.min()\n",
    "  maxval = col.max()\n",
    "\n",
    "  break_points = [minval] + cut_points + [maxval]\n",
    "\n",
    "\n",
    "  if not labels:\n",
    "    labels = range(len(cut_points)+1)\n",
    "\n",
    "\n",
    "  colBin = pd.cut(col,bins=break_points,labels=labels,include_lowest=True)\n",
    "  return colBin\n",
    "\n",
    "cut_points = [1, 10, 20, 50 ]\n",
    "\n",
    "labels = [\"Unknown\", \"Child\", \"Teen\", \"Adult\", \"Old\"]\n",
    "\n",
    "in_titanic['Age'] = binning(in_titanic['Age'], cut_points, labels)\n",
    "\n",
    "# Replacing Binary with String\n",
    "rep = {0: \"False\", 1: \"True\"}\n",
    "\n",
    "in_titanic.replace({'Survived' : rep}, inplace=True)\n",
    "\n",
    "print in_titanic.head()"
   ]
  },
  {
   "cell_type": "markdown",
   "metadata": {},
   "source": [
    "## Feature Analysing On Target `Survived` Column\n",
    "---"
   ]
  },
  {
   "cell_type": "code",
   "execution_count": 4,
   "metadata": {},
   "outputs": [
    {
     "name": "stdout",
     "output_type": "stream",
     "text": [
      "Embarked is IMPORTANT for Prediction\n",
      "Pclass is IMPORTANT for Prediction\n",
      "Age is NOT an important predictor. (Discard Age from model)\n",
      "Sex is IMPORTANT for Prediction\n"
     ]
    }
   ],
   "source": [
    "# Data Org Finished\n",
    "\n",
    "#Initialize ChiSquare Class\n",
    "cT = ChiSquare(in_titanic)\n",
    "#Feature Selection\n",
    "nominal_cols.remove('Survived')\n",
    "for var in nominal_cols:\n",
    "    cT.TestIndependence(colX=var, colY=\"Survived\")"
   ]
  }
 ],
 "metadata": {
  "kernelspec": {
   "display_name": "Python 2",
   "language": "python",
   "name": "python2"
  },
  "language_info": {
   "codemirror_mode": {
    "name": "ipython",
    "version": 2
   },
   "file_extension": ".py",
   "mimetype": "text/x-python",
   "name": "python",
   "nbconvert_exporter": "python",
   "pygments_lexer": "ipython2",
   "version": "2.7.15"
  }
 },
 "nbformat": 4,
 "nbformat_minor": 2
}
