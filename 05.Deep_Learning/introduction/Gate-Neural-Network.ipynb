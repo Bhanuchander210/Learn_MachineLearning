{
 "cells": [
  {
   "cell_type": "markdown",
   "metadata": {},
   "source": [
    "### Simple Demo on Tensorflow with AND Gate"
   ]
  },
  {
   "cell_type": "code",
   "execution_count": 1,
   "metadata": {},
   "outputs": [],
   "source": [
    "import tensorflow as tf\n",
    "T, F = 1., -1.\n",
    "train_in = [\n",
    " [T, T],\n",
    " [T, F],\n",
    " [F, T],\n",
    " [F, F],\n",
    "]\n",
    "train_out = [\n",
    " [T],\n",
    " [T],\n",
    " [T],\n",
    " [F],\n",
    "]"
   ]
  },
  {
   "cell_type": "markdown",
   "metadata": {},
   "source": [
    "### Init Nod and Bias Values"
   ]
  },
  {
   "cell_type": "code",
   "execution_count": 5,
   "metadata": {},
   "outputs": [],
   "source": [
    "w1 = tf.Variable(tf.random_normal([2, 2]))\n",
    "w1 = tf.Print(w1, [w1], message=\"This is Inited w1: \")\n",
    "\n",
    "b1 = tf.Variable(tf.zeros([2]))\n",
    "b1 = tf.Print(b1, [b1], message=\"This is Inited b1: \")\n",
    "\n",
    "w2 = tf.Variable(tf.random_normal([2, 1]))\n",
    "w2 = tf.Print(w2, [w2], message=\"This is Inited w2: \")\n",
    "\n",
    "b2 = tf.Variable(tf.zeros([1]))\n",
    "b2 = tf.Print(b2, [b2], message=\"This is Inited b2: \")"
   ]
  },
  {
   "cell_type": "markdown",
   "metadata": {},
   "source": [
    "### Forming the Neural Layers with Sigmoid Activation Function"
   ]
  },
  {
   "cell_type": "code",
   "execution_count": 6,
   "metadata": {},
   "outputs": [],
   "source": [
    "# Layer 1\n",
    "out1 = tf.tanh(tf.add(tf.matmul(train_in, w1), b1))\n",
    "out1 = tf.Print(out1, [out1], message=\"This is out1: \")\n",
    "\n",
    "# Layer 2\n",
    "# Activation Layer\n",
    "out2 = tf.sigmoid(tf.add(tf.matmul(out1, w2), b2))\n",
    "out2 = tf.Print(out2, [out2], message=\"This is out2: \")"
   ]
  },
  {
   "cell_type": "code",
   "execution_count": 7,
   "metadata": {},
   "outputs": [],
   "source": [
    "error = tf.subtract(train_out, out2)\n",
    "mse = tf.reduce_mean(tf.square(error))"
   ]
  },
  {
   "cell_type": "markdown",
   "metadata": {},
   "source": [
    "### Assigining the Optimizer with Learning Rate"
   ]
  },
  {
   "cell_type": "code",
   "execution_count": 8,
   "metadata": {},
   "outputs": [],
   "source": [
    "train = tf.train.GradientDescentOptimizer(0.01).minimize(mse)"
   ]
  },
  {
   "cell_type": "markdown",
   "metadata": {},
   "source": [
    "### Initialize the weights of our Neural Network"
   ]
  },
  {
   "cell_type": "code",
   "execution_count": 9,
   "metadata": {},
   "outputs": [],
   "source": [
    "sess = tf.Session()\n",
    "sess.run(tf.global_variables_initializer())"
   ]
  },
  {
   "cell_type": "markdown",
   "metadata": {},
   "source": [
    "### Assigning the Error and Target error for which our model will optimize"
   ]
  },
  {
   "cell_type": "code",
   "execution_count": 10,
   "metadata": {},
   "outputs": [],
   "source": [
    "err, target = 1, 0.01\n",
    "epoch, max_epochs = 0, 5"
   ]
  },
  {
   "cell_type": "markdown",
   "metadata": {},
   "source": [
    "### Model Execution"
   ]
  },
  {
   "cell_type": "code",
   "execution_count": 11,
   "metadata": {},
   "outputs": [
    {
     "name": "stdout",
     "output_type": "stream",
     "text": [
      "('epoch:', 5, 'mse:', 0.89726406)\n"
     ]
    }
   ],
   "source": [
    "while err > target and epoch < max_epochs:\n",
    "   epoch += 1\n",
    "   err, _ = sess.run([mse, train])\n",
    "print ('epoch:', epoch, 'mse:', err)"
   ]
  },
  {
   "cell_type": "markdown",
   "metadata": {},
   "source": [
    "### Printed Output:"
   ]
  },
  {
   "cell_type": "raw",
   "metadata": {},
   "source": [
    "This is Inited b2: [0]\n",
    "This is Inited w2: [[0.123697303][-2.23846126]]\n",
    "This is Inited b1: [0 0]\n",
    "This is Inited w1: [[0.528150916 -0.234676704][0.831134498...]...]\n",
    "This is out1: [[0.87622714 0.273113936][-0.29404062...]...]\n",
    "This is out2: [[0.376843423][0.799764335][0.20023565]...]\n",
    "This is Inited b2: [-0.000373455579]\n",
    "This is Inited w1: [[0.528172433 -0.239498928][0.831264496...]...]\n",
    "This is Inited w2: [[0.126149535][-2.23743606]]\n",
    "This is Inited b1: [5.67531497e-05 0.00136240479]\n",
    "This is out1: [[0.876275539 0.264239639][-0.294087857...]...]\n",
    "This is out2: [[0.382004][0.798915803][0.200381637]...]\n",
    "This is Inited w1: [[0.528194547 -0.244360864][0.831397057...]...]\n",
    "This is Inited b1: [0.000114575159 0.00275508361]\n",
    "This is out1: [[0.876324952 0.255278796][-0.294135958...]...]\n",
    "This is Inited w2: [[0.128604174][-2.23643875]]\n",
    "This is Inited b2: [-0.00075279444]\n",
    "This is out2: [[0.387230396][0.798059464][0.200516731]...]\n",
    "This is Inited b2: [-0.00113753066]\n",
    "This is Inited w2: [[0.131060332][-2.23547]]\n",
    "This is Inited b1: [0.000173479071 0.00417664647]\n",
    "This is Inited w1: [[0.528217256 -0.249259681][0.831532061...]...]\n",
    "This is out1: [[0.876375079 0.246236458][-0.294184685...]...]\n",
    "This is out2: [[0.392519504][0.797195554][0.20064114]...]\n",
    "This is Inited b2: [-0.00152714015]\n",
    "This is Inited w2: [[0.133517072][-2.23453045]]\n",
    "This is Inited b1: [0.000233479514 0.00562554039]\n",
    "This is Inited w1: [[0.528240561 -0.254192352][0.831669569...]...]\n",
    "This is out1: [[0.876426399 0.237117738][-0.294234216...]...]\n",
    "This is out2: [[0.397868097][0.79632473][0.200755134]...]"
   ]
  },
  {
   "cell_type": "markdown",
   "metadata": {},
   "source": [
    "### What we learned is :\n",
    "\n",
    "- We initialize random weights on our neural network\n",
    "- We use optimizer to change the weights according to the output with a specific **Learning Rate**.\n",
    "- Epoch (Time of run to optimize for the target) is used to do this multiple times to change weights.\n",
    "- Also every time, we calculate **Error** by subtracting the predicted and actual values to estimate the current learning state of the model.\n",
    "\n",
    "This four point is far enough to understand the process. This will be every where you are going to do in machine learning."
   ]
  }
 ],
 "metadata": {
  "kernelspec": {
   "display_name": "Python 2",
   "language": "python",
   "name": "python2"
  },
  "language_info": {
   "codemirror_mode": {
    "name": "ipython",
    "version": 2
   },
   "file_extension": ".py",
   "mimetype": "text/x-python",
   "name": "python",
   "nbconvert_exporter": "python",
   "pygments_lexer": "ipython2",
   "version": "2.7.15"
  }
 },
 "nbformat": 4,
 "nbformat_minor": 2
}
